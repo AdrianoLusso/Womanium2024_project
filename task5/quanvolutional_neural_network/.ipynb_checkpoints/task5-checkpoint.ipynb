{
 "cells": [
  {
   "cell_type": "markdown",
   "id": "d5620f08-e16f-433d-93ba-94365d026cdc",
   "metadata": {},
   "source": [
    "# task 5: QCNN for multi-classification of conspicuity in production"
   ]
  },
  {
   "cell_type": "markdown",
   "id": "3b4f8969-d3cd-4d7d-8124-ed9628d8df34",
   "metadata": {},
   "source": [
    "## Task"
   ]
  },
  {
   "cell_type": "markdown",
   "id": "1d378dbd-d3fe-4eb8-8272-97f9b1fdada0",
   "metadata": {},
   "source": [
    "Implement a Quantum Machine Learning model to detect defective production part. The implementation includes the preprocessing of the \n",
    "data, the implementation of a model and the visualization of the results. Yo \r\n",
    "can use one of the models above. Further, you can also use only a subs t\r\n",
    "of  he downloaded data. The final deliverable should be a notebook in wh ch\r\n",
    "all the necessary steps have been carried out and documented."
   ]
  },
  {
   "cell_type": "markdown",
   "id": "4a93ac9f-86c4-4b9b-b766-d52c5b818a8b",
   "metadata": {},
   "source": [
    "## General description"
   ]
  },
  {
   "cell_type": "markdown",
   "id": "eafc3eb3-b554-4605-9250-0506077f1455",
   "metadata": {},
   "source": [
    "The solution proposed in this notebook is inspired in the workflow done on task 3, on this same repository. The idea is to a multi-classification between the 6 categories of productions parts, where the categories are:\n",
    "\n",
    "* good weld - 0\n",
    "* burn through - 1\n",
    "* contamination - 2\n",
    "* lack of fusion - 3\n",
    "* misalignment - 4\n",
    "* lack of pentetration 5\n",
    "\n",
    "The QML workflow consist of a previously quantum pre-processing over the images, using a quantum convolutional kernel. The resulting channels will be flatten and used as input for a feed-forward multi-classification ANN. A comparison of the quantum-enhanced ANN with respect other ANN will be done."
   ]
  },
  {
   "cell_type": "markdown",
   "id": "fdc6687a-6dc3-4650-8214-d5c86de6c241",
   "metadata": {},
   "source": [
    "## Imports"
   ]
  },
  {
   "cell_type": "code",
   "execution_count": 1,
   "id": "4a43daea-f834-4962-b72a-bde299154407",
   "metadata": {},
   "outputs": [],
   "source": [
    "import pennylane as qml\n",
    "from pennylane import numpy as np\n",
    "from pennylane.templates import RandomLayers\n",
    "import tensorflow as tf\n",
    "from tensorflow import keras\n",
    "import matplotlib.pyplot as plt\n",
    "import os\n",
    "from PIL import Image\n",
    "from sklearn.model_selection import train_test_split\n",
    "from sklearn.metrics import confusion_matrix, precision_score, recall_score, f1_score\n",
    "from tensorflow.keras.models import load_model\n",
    "import pickle\n",
    "import pandas as pd"
   ]
  },
  {
   "cell_type": "markdown",
   "id": "6441a7ec-23a8-444a-99c0-64971254b90b",
   "metadata": {},
   "source": [
    "## Setting the hyper-parameters of the model"
   ]
  },
  {
   "cell_type": "code",
   "execution_count": 2,
   "id": "02a02c76-9c4b-4cd8-8399-dd7b104b050e",
   "metadata": {},
   "outputs": [],
   "source": [
    "n_epochs = 200\n",
    "n_layers = 1\n",
    "\n",
    "SAVE_PATH = \"./\"\n",
    "NUMERIZE = False # if False, it skips translating the images to numpy numbers arrays\n",
    "CONVOLUTE = False # if False it skips the quantum processing and load data fron the SAVE_PATH\n",
    "TRAIN = False # if False it skips de model training and just load the pre-train models\n",
    "np.random.seed(42)\n",
    "tf.random.set_seed(42)"
   ]
  },
  {
   "cell_type": "markdown",
   "id": "f2b9c800-48bf-4fea-8c36-8f879154f1e8",
   "metadata": {},
   "source": [
    "## Preprocessing: converting images to numbers arrays"
   ]
  },
  {
   "cell_type": "markdown",
   "id": "0fb8e036-7f22-42f3-aae5-18feaa556063",
   "metadata": {},
   "source": [
    "First of all, the images must be converted into numpy arrys containing real numbers, which will be manage during the QML workflow. This is an auxiliary functions for this preprocessing."
   ]
  },
  {
   "cell_type": "code",
   "execution_count": 3,
   "id": "6cf3e345-70db-40c0-ae50-0027a52a0c72",
   "metadata": {},
   "outputs": [],
   "source": [
    "def process_and_save_images(base_dir, output_dir):\n",
    "    print('Loading from ',base_dir)\n",
    "    for category in range(6):  # considering 6 categories\n",
    "        print('Processing category ',category,'...')\n",
    "        category_path = os.path.join(base_dir, str(category))\n",
    "        if not os.path.isdir(category_path):\n",
    "            continue\n",
    "        \n",
    "        data = []\n",
    "        labels = []\n",
    "        \n",
    "        for filename in os.listdir(category_path):\n",
    "            if filename.endswith('.jpg') or filename.endswith('.png'):  \n",
    "                image_path = os.path.join(category_path, filename)\n",
    "                image = Image.open(image_path).convert('RGB')\n",
    "                image = image.resize((224, 224))  # do the necessary image resize\n",
    "                \n",
    "                image_array = np.array(image)\n",
    "                data.append(image_array)\n",
    "                labels.append(category)\n",
    "        \n",
    "        data = np.array(data)\n",
    "        labels = np.array(labels)\n",
    "        \n",
    "        # save data\n",
    "        np.save(os.path.join(output_category_path, 'data.npy'), data)\n",
    "        np.save(os.path.join(output_category_path, 'labels.npy'), labels)"
   ]
  },
  {
   "cell_type": "markdown",
   "id": "28f0fa5b-019a-4525-ad82-4a7beeb5055b",
   "metadata": {},
   "source": [
    "If the $\\texttt{NUMERIZE}$ flag is set on, the numerization of images is done. Since this preprocessing has alredy been done, the flag was previously set up as false."
   ]
  },
  {
   "cell_type": "code",
   "execution_count": 4,
   "id": "09b3879f-49c6-49fe-8e5f-0860ff9988a2",
   "metadata": {
    "scrolled": true
   },
   "outputs": [],
   "source": [
    "if NUMERIZE:\n",
    "    # raw and numerized images directories\n",
    "    raw_train_dir = 'dataset/raw/train'\n",
    "    raw_test_dir = 'dataset/raw/test'\n",
    "    numerized_train_dir = 'dataset/numerized/train'\n",
    "    numerized_test_dir = 'dataset/numerized/test'\n",
    "\n",
    "    # process and save data\n",
    "    process_and_save_images(raw_train_dir, numerized_train_dir)\n",
    "    process_and_save_images(raw_test_dir, numerized_test_dir)\n",
    "    print(f'\\n FINISHED')"
   ]
  },
  {
   "cell_type": "markdown",
   "id": "484c324c-6a91-4e2c-89eb-3930c82484f4",
   "metadata": {},
   "source": [
    "## Generate the train, evaluation and test sets"
   ]
  },
  {
   "cell_type": "markdown",
   "id": "ddd9acbb-cdb6-44d4-b163-9dfb2b124a60",
   "metadata": {},
   "source": [
    "For the next step, the train, evaluation and test sets will be generated. Predefined train and test sets alredy exists. The following auxiliary function reads them."
   ]
  },
  {
   "cell_type": "code",
   "execution_count": 5,
   "id": "63741707-6156-4c1f-b92f-15546da616e0",
   "metadata": {},
   "outputs": [],
   "source": [
    "def load_and_concatenate_data(base_dir):\n",
    "    all_data = []\n",
    "    all_labels = []\n",
    "\n",
    "    for category in range(6):  # considering 6 categories\n",
    "        category_path = os.path.join(base_dir, str(category))\n",
    "        if not os.path.isdir(category_path):\n",
    "            continue\n",
    "        \n",
    "        data_path = os.path.join(category_path, 'data.npy')\n",
    "        labels_path = os.path.join(category_path, 'labels.npy')\n",
    "\n",
    "        if os.path.exists(data_path) and os.path.exists(labels_path):\n",
    "            data = np.load(data_path)\n",
    "            labels = np.load(labels_path)\n",
    "            \n",
    "            all_data.append(data)\n",
    "            all_labels.append(labels)\n",
    "    \n",
    "    if all_data:\n",
    "        all_data = np.concatenate(all_data, axis=0)\n",
    "        all_labels = np.concatenate(all_labels, axis=0)\n",
    "    else:\n",
    "        all_data = np.array([])\n",
    "        all_labels = np.array([])\n",
    "\n",
    "    return all_data, all_labels"
   ]
  },
  {
   "cell_type": "markdown",
   "id": "77af491f-91da-43d1-9fbc-e60775f3881d",
   "metadata": {},
   "source": [
    "After reading the train and test sets, their shapes are plotted."
   ]
  },
  {
   "cell_type": "code",
   "execution_count": 6,
   "id": "7cf36a1b-79d4-4409-99a6-c465a6b15b09",
   "metadata": {},
   "outputs": [
    {
     "name": "stdout",
     "output_type": "stream",
     "text": [
      "Predefined train set shape: (1906, 224, 224, 3)\n",
      "Predefined train labels shape: (1906,)\n",
      "Predefined test set shape: (532, 224, 224, 3)\n",
      "Predefined test labels shape: (532,)\n"
     ]
    }
   ],
   "source": [
    "# numerized images directories\n",
    "numerized_train_dir = 'dataset/numerized/train'\n",
    "numerized_test_dir = 'dataset/numerized/test'\n",
    "\n",
    "# define the train and test\n",
    "train_images, train_labels = load_and_concatenate_data(numerized_train_dir)\n",
    "test_images, test_labels = load_and_concatenate_data(numerized_test_dir)\n",
    "\n",
    "print(f\"Predefined train set shape: {train_images.shape}\")\n",
    "print(f\"Predefined train labels shape: {train_labels.shape}\")\n",
    "print(f\"Predefined test set shape: {test_images.shape}\")\n",
    "print(f\"Predefined test labels shape: {test_labels.shape}\")"
   ]
  },
  {
   "cell_type": "markdown",
   "id": "6d29c234-8031-4992-a66f-80d37fcdce4e",
   "metadata": {},
   "source": [
    "Now, let's evaluate if there is a balance between the sampling of the different categories. It could be seen that there is a well representation for all categories, in both of the sets. These guarantees that the QML model won't be biased by a not representative sample."
   ]
  },
  {
   "cell_type": "code",
   "execution_count": 7,
   "id": "0d3bc409-b217-4b7c-850f-5e18cb44988e",
   "metadata": {},
   "outputs": [
    {
     "name": "stdout",
     "output_type": "stream",
     "text": [
      "counts for each of the 6 categories in the train set:  [362, 201, 358, 373, 346, 266]\n",
      "counts for each of the 6 categories in the test set:  [114, 44, 107, 125, 113, 29]\n"
     ]
    }
   ],
   "source": [
    "categories_counts = [0,0,0,0,0,0]\n",
    "for i in train_labels:\n",
    "    categories_counts[i] += 1\n",
    "print('counts for each of the 6 categories in the train set: ',categories_counts)\n",
    "\n",
    "categories_counts = [0,0,0,0,0,0]\n",
    "for i in test_labels:\n",
    "    categories_counts[i] += 1  \n",
    "print('counts for each of the 6 categories in the test set: ',categories_counts)"
   ]
  },
  {
   "cell_type": "markdown",
   "id": "9d0edbcf-ab38-4cd5-8f14-211c838315b8",
   "metadata": {},
   "source": [
    "The (preliminary) test set is split into the final test set and a validation set. The split is done by a 50% of the preliminary test set."
   ]
  },
  {
   "cell_type": "code",
   "execution_count": 8,
   "id": "ffe3302c-497f-4757-bc71-8544f7002b53",
   "metadata": {},
   "outputs": [
    {
     "name": "stdout",
     "output_type": "stream",
     "text": [
      "Train set shape: (703, 224, 224, 3)\n",
      "Train labels shape: (703,)\n",
      "Validation set shape: (125, 224, 224, 3)\n",
      "Validation labels shape: (125,)\n",
      "Test set shape: (147, 224, 224, 3)\n",
      "Test labels shape: (147,)\n"
     ]
    }
   ],
   "source": [
    "all_images = np.concatenate((train_images,test_images))\n",
    "all_labels = np.concatenate((train_labels,test_labels))\n",
    "\n",
    "\n",
    "all_images, _, all_labels, _ = train_test_split(\n",
    "    all_images, all_labels, test_size=0.6, stratify=all_labels, random_state=42)\n",
    "\n",
    "train_images, test_images, train_labels, test_labels = train_test_split(\n",
    "    all_images, all_labels, test_size=0.15, stratify=all_labels, random_state=42)\n",
    "\n",
    "train_images, val_images, train_labels, val_labels = train_test_split(\n",
    "    train_images, train_labels, test_size=0.15, stratify=train_labels, random_state=42)\n",
    "\n",
    "print(f\"Train set shape: {train_images.shape}\")\n",
    "print(f\"Train labels shape: {train_labels.shape}\")\n",
    "print(f\"Validation set shape: {val_images.shape}\")\n",
    "print(f\"Validation labels shape: {val_labels.shape}\")\n",
    "print(f\"Test set shape: {test_images.shape}\")\n",
    "print(f\"Test labels shape: {test_labels.shape}\")"
   ]
  },
  {
   "cell_type": "markdown",
   "id": "809118d4-ed00-4122-b222-f4948c12c0bb",
   "metadata": {},
   "source": [
    "Finally, the images will be resized from $224$x$224$ to $40$x$40$, in order to facilitate the workflow, but also without deleting relevant features of the data."
   ]
  },
  {
   "cell_type": "code",
   "execution_count": 9,
   "id": "42346e16-9a88-4e1e-9b61-2cf6c7363a6c",
   "metadata": {},
   "outputs": [
    {
     "name": "stdout",
     "output_type": "stream",
     "text": [
      "Resized train set shape: (703, 40, 40, 3)\n",
      "Resized validation set shape: (125, 40, 40, 3)\n",
      "Resized test set shape: (147, 40, 40, 3)\n"
     ]
    }
   ],
   "source": [
    "def resize_images(images, size=(64, 64)):\n",
    "    resized_images = []\n",
    "    for img in images:\n",
    "        pil_img = Image.fromarray((img * 255).astype(np.uint8))  # Change the numpy array into a PIL image.\n",
    "        resized_img = pil_img.resize(size, Image.LANCZOS)\n",
    "        resized_images.append(np.array(resized_img) / 255.0)  # The images are redimensioned\n",
    "    return np.array(resized_images)\n",
    "\n",
    "new_size = (40, 40)  # New expected size.\n",
    "train_images = resize_images(train_images, size=new_size)\n",
    "val_images = resize_images(val_images,size=new_size)\n",
    "test_images = resize_images(test_images, size=new_size)\n",
    "\n",
    "print(f\"Resized train set shape: {train_images.shape}\")\n",
    "print(f\"Resized validation set shape: {val_images.shape}\")\n",
    "print(f\"Resized test set shape: {test_images.shape}\")"
   ]
  },
  {
   "cell_type": "markdown",
   "id": "13b78b2f-8dc2-4599-9388-ab38f7f42d33",
   "metadata": {},
   "source": [
    "## Quantum convolutional kernel"
   ]
  },
  {
   "cell_type": "markdown",
   "id": "9ebd4567-ec58-4eb0-8b43-8bb899d4732c",
   "metadata": {},
   "source": [
    "As mentioned before, the quantum convolutional kernel is defined the same way as in task 3 of the complete Womanium Project."
   ]
  },
  {
   "cell_type": "markdown",
   "id": "e50ab7e5-6c63-493e-b471-e63d13c5102c",
   "metadata": {},
   "source": [
    "We initialize a default.qubit device, simulating a system of 4 qubits. Its qnode represents a quantum circuit formed by:\n",
    "\n",
    "1. an embedding layer of local $RY$ rotations (with angles scaled by a factor of $\\pi$).\n",
    "2. a random circuit of $n$ layers.\n",
    "3. a final measurement in the computational basis, estimating 4 expectation values."
   ]
  },
  {
   "cell_type": "code",
   "execution_count": 10,
   "id": "61cb1a98-1eb9-4558-83b6-12a7148aa768",
   "metadata": {},
   "outputs": [],
   "source": [
    "n_qubits = 4\n",
    "dev = qml.device(\"default.qubit\",wires=n_qubits)\n",
    "# random circuit parameters\n",
    "rand_params = np.random.uniform(high=2 * np.pi, size=(n_layers, n_qubits))\n",
    "\n",
    "@qml.qnode(dev)\n",
    "def circuit(phi):\n",
    "    # encoding 4 classical input values\n",
    "    for j in range(n_qubits):\n",
    "        qml.RY(np.pi * phi[j],wires=j)\n",
    "\n",
    "    # random quantum circuit\n",
    "    RandomLayers(rand_params,wires=list(range(n_qubits)))\n",
    "\n",
    "    # measurement producing 4 classical output values\n",
    "    return [qml.expval(qml.PauliZ(j)) for j in range(n_qubits)]"
   ]
  },
  {
   "cell_type": "markdown",
   "id": "b5e11a6a-6624-4842-af8b-b33d77bc3dce",
   "metadata": {},
   "source": [
    "The convolution scheme is defined as follows:\n",
    "\n",
    "1. the image is divided into squares of $2x2$ pixels.\n",
    "2. each square is processed by the quantum circuit.\n",
    "3. the 4 expectation values are mapped into 4 different channels of a single output pixel."
   ]
  },
  {
   "cell_type": "code",
   "execution_count": 11,
   "id": "55a4d270-6fdb-4fad-aadf-dfc4331ec5dc",
   "metadata": {},
   "outputs": [],
   "source": [
    "def quanv(params):\n",
    "    '''\n",
    "    Convolves the input image using many applications of a quantum circuit\n",
    "    '''\n",
    "    image,input_image_size,output_image_size = params\n",
    "    out = np.zeros((output_image_size, output_image_size, 4))\n",
    "    \n",
    "    # loop over the coordinates of the top-left pixel of 2X2 squares\n",
    "    for j in range(0,input_image_size,2):\n",
    "        for k in range(0,input_image_size,2):\n",
    "            # process a region fo 2X2 of the image\n",
    "            q_result = circuit(\n",
    "                [\n",
    "                    image[j,k,0],\n",
    "                    image[j,k+1,0],\n",
    "                    image[j+1,k,0],\n",
    "                    image[j+1,k+1,0]\n",
    "                ]\n",
    "            )\n",
    "            # assign expectation values to differents channels of the output pixel (j/2,k/2)\n",
    "            for c in range(n_qubits):\n",
    "                out[j//2,k//2,c] = q_result[c]\n",
    "    return out"
   ]
  },
  {
   "cell_type": "markdown",
   "id": "f29c427f-0e8f-496f-8749-03154610fb75",
   "metadata": {},
   "source": [
    "## Quantum convolving"
   ]
  },
  {
   "cell_type": "markdown",
   "id": "03ca8f9a-2308-4a6e-a7d0-8a13495d5bca",
   "metadata": {},
   "source": [
    "The quantum convolutional kernel won't be train, and will just be used as a preprocessing over the images. The final channels of the convolutional will be used in further steps. The flag $\\texttt{CONVOLUTE}$ indicates if the convolution should be done. Since this processing has alredy been done before, it is set up as False."
   ]
  },
  {
   "cell_type": "code",
   "execution_count": 12,
   "id": "98ee1b02-3fdf-4cb8-8ec3-54485a4ac6f1",
   "metadata": {},
   "outputs": [],
   "source": [
    "n_train = len(train_images)\n",
    "n_val = len(val_images)\n",
    "n_test = len(test_images)\n",
    "\n",
    "if CONVOLUTE:\n",
    "    q_train_images = []\n",
    "    print(\"Quantum pre-processing of train images:\")\n",
    "\n",
    "    # preprocess over the train images\n",
    "    for idx , img in enumerate(train_images):\n",
    "        print(\"{}/{}        \".format(idx + 1, n_train), end=\"\\r\")\n",
    "        q_train_images.append(quanv((img,40,20)))\n",
    "    q_train_images = np.asarray(q_train_images)\n",
    "\n",
    "    # preprocess over the validation images\n",
    "    q_val_images = []\n",
    "    print(\"\\nQuantum pre-processing of validation images:\")\n",
    "    for idx, img in enumerate(val_images):\n",
    "        print(\"{}/{}        \".format(idx + 1, n_val), end=\"\\r\")\n",
    "        q_val_images.append(quanv((img,40,20)))\n",
    "    q_val_images = np.asarray(q_val_images)\n",
    "\n",
    "    # preprocess over the test images\n",
    "    q_test_images = []\n",
    "    print(\"\\nQuantum pre-processing of test images:\")\n",
    "    for idx, img in enumerate(test_images):\n",
    "        print(\"{}/{}        \".format(idx + 1, n_test), end=\"\\r\")\n",
    "        q_test_images.append(quanv((img,40,20)))\n",
    "    q_test_images = np.asarray(q_test_images)\n",
    "\n",
    "    # save the preprocess images\n",
    "    SAVE_PATH = \"./dataset/convoluted/train\"\n",
    "    np.save(SAVE_PATH + \"/convoluted_train_images.npy\", q_train_images)\n",
    "    SAVE_PATH = \"./dataset/convoluted/validation\"\n",
    "    np.save(SAVE_PATH + \"/convoluted_validation_images.npy\", q_val_images)\n",
    "    SAVE_PATH = \"./dataset/convoluted/test\"\n",
    "    np.save(SAVE_PATH + \"/convoluted_test_images.npy\", q_test_images)\n",
    "\n",
    "\n",
    "# Load pre-processed images\n",
    "q_train_images = np.load(\"./dataset/convoluted/train/convoluted_train_images.npy\")\n",
    "q_test_images = np.load( \"./dataset/convoluted/test/convoluted_test_images.npy\")\n",
    "q_val_images = np.load( \"./dataset/convoluted/validation/convoluted_validation_images.npy\")"
   ]
  },
  {
   "cell_type": "markdown",
   "id": "fc59a1d1-93f7-47e4-a360-e4e04ffeb3ed",
   "metadata": {},
   "source": [
    "## Images and their corresponding quantum channels"
   ]
  },
  {
   "cell_type": "markdown",
   "id": "ff9b60e9-e0b5-4695-8339-1d8c9c6f8842",
   "metadata": {},
   "source": [
    "In the following cell, some images and their corresponding quantum channels can be seen. This shows that the quantum convolutional kernel is working."
   ]
  },
  {
   "cell_type": "code",
   "execution_count": 13,
   "id": "69878b76-bc51-44fa-b402-1e640f95d883",
   "metadata": {
    "scrolled": true
   },
   "outputs": [
    {
     "data": {
      "image/png": "[encoded data removed]",
      "text/plain": [
       "<Figure size 1000x1000 with 20 Axes>"
      ]
     },
     "metadata": {},
     "output_type": "display_data"
    }
   ],
   "source": [
    "n_samples = 4\n",
    "n_channels = 4\n",
    "fig, axes = plt.subplots(1 + n_channels, n_samples, figsize=(10, 10))\n",
    "for k in range(n_samples):\n",
    "    axes[0, 0].set_ylabel(\"Input\")\n",
    "    if k != 0:\n",
    "        axes[0, k].yaxis.set_visible(False)\n",
    "    axes[0, k].imshow(train_images[k, :, :, 0], cmap=\"gray\")\n",
    "\n",
    "    # Plot all output channels\n",
    "    for c in range(n_channels):\n",
    "        axes[c + 1, 0].set_ylabel(\"Output [ch. {}]\".format(c))\n",
    "        if k != 0:\n",
    "            axes[c, k].yaxis.set_visible(False)\n",
    "        axes[c + 1, k].imshow(q_train_images[k, :, :, c], cmap=\"gray\")\n",
    "    \n",
    "plt.tight_layout()\n",
    "plt.show()"
   ]
  },
  {
   "cell_type": "markdown",
   "id": "483fa519-e7f8-4832-8795-73991f9dad62",
   "metadata": {},
   "source": [
    "## Definition of the ML models"
   ]
  },
  {
   "cell_type": "markdown",
   "id": "537b3311-3062-49a5-87cb-b1a4f3e80ee8",
   "metadata": {},
   "source": [
    "After applying the quantum convolution layers, the resulting features are feed to a classical neural network, so as to train it and classify the different numbers of the dataset. This result in a hybrid quantum-classical model, defined in the following cell.\n",
    "\n",
    "It consist of a flattening, followed by a hidden layer of 200 neurons and a reLU function. Finally, a typical output layer with softmax function and 6 neurons (one per category) will show which is the production part category with more revelance. The optimizer choosen is Adagrad, since after many hyperparameters testings, shows to be the one which outperforms the rest of optimizers."
   ]
  },
  {
   "cell_type": "code",
   "execution_count": 14,
   "id": "a90e61a0-e9b7-4bae-a151-c81e47995ed8",
   "metadata": {},
   "outputs": [],
   "source": [
    "from keras.regularizers import l2\n",
    "from keras.layers import Dropout\n",
    "from keras.layers import LeakyReLU\n",
    "from tensorflow.keras.layers import Conv2D, MaxPooling2D, Flatten, Dense\n",
    "\n",
    "def Model():\n",
    "    model = keras.models.Sequential([\n",
    "        keras.layers.Flatten(),\n",
    "        keras.layers.Dense(200,activation=\"relu\"),\n",
    "        keras.layers.Dense(6,activation=\"softmax\")\n",
    "    ])\n",
    "\n",
    "    model.compile(\n",
    "        optimizer='adagrad',\n",
    "        loss='sparse_categorical_crossentropy',\n",
    "        metrics=['accuracy']\n",
    "    )\n",
    "    \n",
    "    return model\n"
   ]
  },
  {
   "cell_type": "markdown",
   "id": "cb3d2ec4-fa08-429e-b69a-98d790dbb717",
   "metadata": {},
   "source": [
    "The following is defined the similarly as the previous one, but it is differentiate by a 2D convolutional layer applied at the beggining. In this is case, the model is expected to be used just with the non quantum convoluted images, and the classical convolution will suply the lack of quantum preprocessing."
   ]
  },
  {
   "cell_type": "code",
   "execution_count": 15,
   "id": "435093c2-a1d2-4403-a6f8-fe36c281e63d",
   "metadata": {},
   "outputs": [],
   "source": [
    "def Model_with_classical_convolution():\n",
    "    '''\n",
    "    initializes and returns a custom Keras model\n",
    "    '''\n",
    "    model = keras.models.Sequential([\n",
    "        keras.layers.Conv2D(4,(2,2),strides=(2,2)),\n",
    "        keras.layers.Flatten(),\n",
    "        keras.layers.Dense(200,activation=\"relu\"),\n",
    "        keras.layers.Dense(6,activation=\"softmax\")\n",
    "    ])\n",
    "\n",
    "    model.compile(\n",
    "        optimizer='adagrad',\n",
    "        loss='sparse_categorical_crossentropy',\n",
    "        metrics=['accuracy']\n",
    "    )\n",
    "    \n",
    "    return model"
   ]
  },
  {
   "cell_type": "markdown",
   "id": "adb9410e-7456-419b-ab29-f462201a99ee",
   "metadata": {},
   "source": [
    "## Training"
   ]
  },
  {
   "cell_type": "markdown",
   "id": "070b5493-0012-4177-9789-c00e52e96079",
   "metadata": {},
   "source": [
    "First of all, we create an hybrid quantum-classical model, which has as input the images and their corresponding convoluted channels."
   ]
  },
  {
   "cell_type": "code",
   "execution_count": 16,
   "id": "7a2f75fb-5a74-45e9-8f60-0554323da455",
   "metadata": {
    "scrolled": true
   },
   "outputs": [],
   "source": [
    "if TRAIN:\n",
    "    q_model = Model()\n",
    "    q_history = q_model.fit(\n",
    "        q_train_images,\n",
    "        train_labels,\n",
    "        validation_data=(q_val_images,val_labels),\n",
    "        batch_size=4,\n",
    "        epochs=n_epochs,\n",
    "        verbose=2\n",
    "    )\n",
    "else:\n",
    "    q_model = load_model('models/q_model.keras')\n",
    "    with open('histories/q_history.pkl', 'rb') as f:\n",
    "        q_history = pickle.load(f)"
   ]
  },
  {
   "cell_type": "markdown",
   "id": "0a5a0b12-e153-4b75-b770-74ff0a770f13",
   "metadata": {},
   "source": [
    "The same model is created, but now, using as input the regular images. This results in a classical model with no type of convolution done at all."
   ]
  },
  {
   "cell_type": "code",
   "execution_count": 17,
   "id": "a101ffd4-72cf-4146-9a1c-95d1a8ca12a4",
   "metadata": {
    "scrolled": true
   },
   "outputs": [],
   "source": [
    "if TRAIN:\n",
    "    c_model = Model()\n",
    "\n",
    "    c_history = c_model.fit(\n",
    "    train_images,\n",
    "    train_labels,\n",
    "    validation_data=(val_images,val_labels),\n",
    "    batch_size=4,\n",
    "    epochs=n_epochs,\n",
    "    verbose=2\n",
    "    )\n",
    "else:\n",
    "    c_model = load_model('models/c_model.keras')\n",
    "    with open('histories/c_history.pkl', 'rb') as f:\n",
    "        c_history = pickle.load(f)"
   ]
  },
  {
   "cell_type": "markdown",
   "id": "9db91e13-f8b2-4e47-bf29-f1cd610b810b",
   "metadata": {},
   "source": [
    "Finally, we create the classical model which make use of classical convolution, also using as input the regular images."
   ]
  },
  {
   "cell_type": "code",
   "execution_count": 18,
   "id": "33b222b9-7c02-44b6-8052-69f499127cd3",
   "metadata": {
    "scrolled": true
   },
   "outputs": [],
   "source": [
    "if TRAIN:\n",
    "    c_model2 = Model_with_classical_convolution()\n",
    "\n",
    "    c_history2 = c_model2.fit(\n",
    "    train_images,\n",
    "    train_labels,\n",
    "    validation_data=(val_images,val_labels),\n",
    "    batch_size=4,\n",
    "    epochs=n_epochs,\n",
    "    verbose=2\n",
    "    )\n",
    "else:\n",
    "    c_model2 = load_model('models/c_model2.keras')\n",
    "    with open('histories/c_history2.pkl', 'rb') as f:\n",
    "        c_history2 = pickle.load(f)"
   ]
  },
  {
   "cell_type": "markdown",
   "id": "58236327-d250-45c3-9e9a-46e080a8d230",
   "metadata": {},
   "source": [
    "In the following cells, a summary over the models can be seen. Also, the commented code lines where used to save the models.\n",
    "\n",
    "The summary of $\\texttt{c\\_model2}$ (the one with classical convolution) shows that after doing the convolution, the result shape is the same as doing the quantum convolution. Also, after the flattening, it results in a vector of 1600 elements. This shows that the convolutional preprocessing is equivalent in the hybrid model and the classic model.\n",
    "\n",
    "Also, when comparing the hybrid model against $\\texttt{c\\_model}$ (the one with no convolutional preprocessing), the advantage over the number of parameters could be easily seen, thanks to reducing the dimensionalty applying the quantum kernel to the original images."
   ]
  },
  {
   "cell_type": "code",
   "execution_count": 19,
   "id": "4ef7984a-5b2d-4c69-b2a5-a0e9ef3fbd68",
   "metadata": {},
   "outputs": [
    {
     "data": {
      "text/html": [
       "<pre style=\"white-space:pre;overflow-x:auto;line-height:normal;font-family:Menlo,'DejaVu Sans Mono',consolas,'Courier New',monospace\"><span style=\"font-weight: bold\">Model: \"sequential_35\"</span>\n",
       "</pre>\n"
      ],
      "text/plain": [
       "\u001b[1mModel: \"sequential_35\"\u001b[0m\n"
      ]
     },
     "metadata": {},
     "output_type": "display_data"
    },
    {
     "data": {
      "text/html": [
       "<pre style=\"white-space:pre;overflow-x:auto;line-height:normal;font-family:Menlo,'DejaVu Sans Mono',consolas,'Courier New',monospace\">┏━━━━━━━━━━━━━━━━━━━━━━━━━━━━━━━━━━━━━━┳━━━━━━━━━━━━━━━━━━━━━━━━━━━━━┳━━━━━━━━━━━━━━━━━┓\n",
       "┃<span style=\"font-weight: bold\"> Layer (type)                         </span>┃<span style=\"font-weight: bold\"> Output Shape                </span>┃<span style=\"font-weight: bold\">         Param # </span>┃\n",
       "┡━━━━━━━━━━━━━━━━━━━━━━━━━━━━━━━━━━━━━━╇━━━━━━━━━━━━━━━━━━━━━━━━━━━━━╇━━━━━━━━━━━━━━━━━┩\n",
       "│ flatten_35 (<span style=\"color: #0087ff; text-decoration-color: #0087ff\">Flatten</span>)                 │ (<span style=\"color: #00d7ff; text-decoration-color: #00d7ff\">None</span>, <span style=\"color: #00af00; text-decoration-color: #00af00\">1600</span>)                │               <span style=\"color: #00af00; text-decoration-color: #00af00\">0</span> │\n",
       "├──────────────────────────────────────┼─────────────────────────────┼─────────────────┤\n",
       "│ dense_88 (<span style=\"color: #0087ff; text-decoration-color: #0087ff\">Dense</span>)                     │ (<span style=\"color: #00d7ff; text-decoration-color: #00d7ff\">None</span>, <span style=\"color: #00af00; text-decoration-color: #00af00\">200</span>)                 │         <span style=\"color: #00af00; text-decoration-color: #00af00\">320,200</span> │\n",
       "├──────────────────────────────────────┼─────────────────────────────┼─────────────────┤\n",
       "│ dense_89 (<span style=\"color: #0087ff; text-decoration-color: #0087ff\">Dense</span>)                     │ (<span style=\"color: #00d7ff; text-decoration-color: #00d7ff\">None</span>, <span style=\"color: #00af00; text-decoration-color: #00af00\">6</span>)                   │           <span style=\"color: #00af00; text-decoration-color: #00af00\">1,206</span> │\n",
       "└──────────────────────────────────────┴─────────────────────────────┴─────────────────┘\n",
       "</pre>\n"
      ],
      "text/plain": [
       "┏━━━━━━━━━━━━━━━━━━━━━━━━━━━━━━━━━━━━━━┳━━━━━━━━━━━━━━━━━━━━━━━━━━━━━┳━━━━━━━━━━━━━━━━━┓\n",
       "┃\u001b[1m \u001b[0m\u001b[1mLayer (type)                        \u001b[0m\u001b[1m \u001b[0m┃\u001b[1m \u001b[0m\u001b[1mOutput Shape               \u001b[0m\u001b[1m \u001b[0m┃\u001b[1m \u001b[0m\u001b[1m        Param #\u001b[0m\u001b[1m \u001b[0m┃\n",
       "┡━━━━━━━━━━━━━━━━━━━━━━━━━━━━━━━━━━━━━━╇━━━━━━━━━━━━━━━━━━━━━━━━━━━━━╇━━━━━━━━━━━━━━━━━┩\n",
       "│ flatten_35 (\u001b[38;5;33mFlatten\u001b[0m)                 │ (\u001b[38;5;45mNone\u001b[0m, \u001b[38;5;34m1600\u001b[0m)                │               \u001b[38;5;34m0\u001b[0m │\n",
       "├──────────────────────────────────────┼─────────────────────────────┼─────────────────┤\n",
       "│ dense_88 (\u001b[38;5;33mDense\u001b[0m)                     │ (\u001b[38;5;45mNone\u001b[0m, \u001b[38;5;34m200\u001b[0m)                 │         \u001b[38;5;34m320,200\u001b[0m │\n",
       "├──────────────────────────────────────┼─────────────────────────────┼─────────────────┤\n",
       "│ dense_89 (\u001b[38;5;33mDense\u001b[0m)                     │ (\u001b[38;5;45mNone\u001b[0m, \u001b[38;5;34m6\u001b[0m)                   │           \u001b[38;5;34m1,206\u001b[0m │\n",
       "└──────────────────────────────────────┴─────────────────────────────┴─────────────────┘\n"
      ]
     },
     "metadata": {},
     "output_type": "display_data"
    },
    {
     "data": {
      "text/html": [
       "<pre style=\"white-space:pre;overflow-x:auto;line-height:normal;font-family:Menlo,'DejaVu Sans Mono',consolas,'Courier New',monospace\"><span style=\"font-weight: bold\"> Total params: </span><span style=\"color: #00af00; text-decoration-color: #00af00\">642,814</span> (2.45 MB)\n",
       "</pre>\n"
      ],
      "text/plain": [
       "\u001b[1m Total params: \u001b[0m\u001b[38;5;34m642,814\u001b[0m (2.45 MB)\n"
      ]
     },
     "metadata": {},
     "output_type": "display_data"
    },
    {
     "data": {
      "text/html": [
       "<pre style=\"white-space:pre;overflow-x:auto;line-height:normal;font-family:Menlo,'DejaVu Sans Mono',consolas,'Courier New',monospace\"><span style=\"font-weight: bold\"> Trainable params: </span><span style=\"color: #00af00; text-decoration-color: #00af00\">321,406</span> (1.23 MB)\n",
       "</pre>\n"
      ],
      "text/plain": [
       "\u001b[1m Trainable params: \u001b[0m\u001b[38;5;34m321,406\u001b[0m (1.23 MB)\n"
      ]
     },
     "metadata": {},
     "output_type": "display_data"
    },
    {
     "data": {
      "text/html": [
       "<pre style=\"white-space:pre;overflow-x:auto;line-height:normal;font-family:Menlo,'DejaVu Sans Mono',consolas,'Courier New',monospace\"><span style=\"font-weight: bold\"> Non-trainable params: </span><span style=\"color: #00af00; text-decoration-color: #00af00\">0</span> (0.00 B)\n",
       "</pre>\n"
      ],
      "text/plain": [
       "\u001b[1m Non-trainable params: \u001b[0m\u001b[38;5;34m0\u001b[0m (0.00 B)\n"
      ]
     },
     "metadata": {},
     "output_type": "display_data"
    },
    {
     "data": {
      "text/html": [
       "<pre style=\"white-space:pre;overflow-x:auto;line-height:normal;font-family:Menlo,'DejaVu Sans Mono',consolas,'Courier New',monospace\"><span style=\"font-weight: bold\"> Optimizer params: </span><span style=\"color: #00af00; text-decoration-color: #00af00\">321,408</span> (1.23 MB)\n",
       "</pre>\n"
      ],
      "text/plain": [
       "\u001b[1m Optimizer params: \u001b[0m\u001b[38;5;34m321,408\u001b[0m (1.23 MB)\n"
      ]
     },
     "metadata": {},
     "output_type": "display_data"
    }
   ],
   "source": [
    "q_model.summary()\n",
    "\n",
    "if TRAIN:\n",
    "    q_model.save('models/q_model.keras')\n",
    "    with open('histories/q_history.pkl', 'wb') as f:\n",
    "        pickle.dump(q_history, f)"
   ]
  },
  {
   "cell_type": "code",
   "execution_count": 20,
   "id": "3b1fd16a-0add-44e4-9cc0-d6fcfa64252f",
   "metadata": {},
   "outputs": [
    {
     "data": {
      "text/html": [
       "<pre style=\"white-space:pre;overflow-x:auto;line-height:normal;font-family:Menlo,'DejaVu Sans Mono',consolas,'Courier New',monospace\"><span style=\"font-weight: bold\">Model: \"sequential_35\"</span>\n",
       "</pre>\n"
      ],
      "text/plain": [
       "\u001b[1mModel: \"sequential_35\"\u001b[0m\n"
      ]
     },
     "metadata": {},
     "output_type": "display_data"
    },
    {
     "data": {
      "text/html": [
       "<pre style=\"white-space:pre;overflow-x:auto;line-height:normal;font-family:Menlo,'DejaVu Sans Mono',consolas,'Courier New',monospace\">┏━━━━━━━━━━━━━━━━━━━━━━━━━━━━━━━━━━━━━━┳━━━━━━━━━━━━━━━━━━━━━━━━━━━━━┳━━━━━━━━━━━━━━━━━┓\n",
       "┃<span style=\"font-weight: bold\"> Layer (type)                         </span>┃<span style=\"font-weight: bold\"> Output Shape                </span>┃<span style=\"font-weight: bold\">         Param # </span>┃\n",
       "┡━━━━━━━━━━━━━━━━━━━━━━━━━━━━━━━━━━━━━━╇━━━━━━━━━━━━━━━━━━━━━━━━━━━━━╇━━━━━━━━━━━━━━━━━┩\n",
       "│ flatten_35 (<span style=\"color: #0087ff; text-decoration-color: #0087ff\">Flatten</span>)                 │ (<span style=\"color: #00d7ff; text-decoration-color: #00d7ff\">None</span>, <span style=\"color: #00af00; text-decoration-color: #00af00\">1600</span>)                │               <span style=\"color: #00af00; text-decoration-color: #00af00\">0</span> │\n",
       "├──────────────────────────────────────┼─────────────────────────────┼─────────────────┤\n",
       "│ dense_88 (<span style=\"color: #0087ff; text-decoration-color: #0087ff\">Dense</span>)                     │ (<span style=\"color: #00d7ff; text-decoration-color: #00d7ff\">None</span>, <span style=\"color: #00af00; text-decoration-color: #00af00\">200</span>)                 │         <span style=\"color: #00af00; text-decoration-color: #00af00\">320,200</span> │\n",
       "├──────────────────────────────────────┼─────────────────────────────┼─────────────────┤\n",
       "│ dense_89 (<span style=\"color: #0087ff; text-decoration-color: #0087ff\">Dense</span>)                     │ (<span style=\"color: #00d7ff; text-decoration-color: #00d7ff\">None</span>, <span style=\"color: #00af00; text-decoration-color: #00af00\">6</span>)                   │           <span style=\"color: #00af00; text-decoration-color: #00af00\">1,206</span> │\n",
       "└──────────────────────────────────────┴─────────────────────────────┴─────────────────┘\n",
       "</pre>\n"
      ],
      "text/plain": [
       "┏━━━━━━━━━━━━━━━━━━━━━━━━━━━━━━━━━━━━━━┳━━━━━━━━━━━━━━━━━━━━━━━━━━━━━┳━━━━━━━━━━━━━━━━━┓\n",
       "┃\u001b[1m \u001b[0m\u001b[1mLayer (type)                        \u001b[0m\u001b[1m \u001b[0m┃\u001b[1m \u001b[0m\u001b[1mOutput Shape               \u001b[0m\u001b[1m \u001b[0m┃\u001b[1m \u001b[0m\u001b[1m        Param #\u001b[0m\u001b[1m \u001b[0m┃\n",
       "┡━━━━━━━━━━━━━━━━━━━━━━━━━━━━━━━━━━━━━━╇━━━━━━━━━━━━━━━━━━━━━━━━━━━━━╇━━━━━━━━━━━━━━━━━┩\n",
       "│ flatten_35 (\u001b[38;5;33mFlatten\u001b[0m)                 │ (\u001b[38;5;45mNone\u001b[0m, \u001b[38;5;34m1600\u001b[0m)                │               \u001b[38;5;34m0\u001b[0m │\n",
       "├──────────────────────────────────────┼─────────────────────────────┼─────────────────┤\n",
       "│ dense_88 (\u001b[38;5;33mDense\u001b[0m)                     │ (\u001b[38;5;45mNone\u001b[0m, \u001b[38;5;34m200\u001b[0m)                 │         \u001b[38;5;34m320,200\u001b[0m │\n",
       "├──────────────────────────────────────┼─────────────────────────────┼─────────────────┤\n",
       "│ dense_89 (\u001b[38;5;33mDense\u001b[0m)                     │ (\u001b[38;5;45mNone\u001b[0m, \u001b[38;5;34m6\u001b[0m)                   │           \u001b[38;5;34m1,206\u001b[0m │\n",
       "└──────────────────────────────────────┴─────────────────────────────┴─────────────────┘\n"
      ]
     },
     "metadata": {},
     "output_type": "display_data"
    },
    {
     "data": {
      "text/html": [
       "<pre style=\"white-space:pre;overflow-x:auto;line-height:normal;font-family:Menlo,'DejaVu Sans Mono',consolas,'Courier New',monospace\"><span style=\"font-weight: bold\"> Total params: </span><span style=\"color: #00af00; text-decoration-color: #00af00\">642,814</span> (2.45 MB)\n",
       "</pre>\n"
      ],
      "text/plain": [
       "\u001b[1m Total params: \u001b[0m\u001b[38;5;34m642,814\u001b[0m (2.45 MB)\n"
      ]
     },
     "metadata": {},
     "output_type": "display_data"
    },
    {
     "data": {
      "text/html": [
       "<pre style=\"white-space:pre;overflow-x:auto;line-height:normal;font-family:Menlo,'DejaVu Sans Mono',consolas,'Courier New',monospace\"><span style=\"font-weight: bold\"> Trainable params: </span><span style=\"color: #00af00; text-decoration-color: #00af00\">321,406</span> (1.23 MB)\n",
       "</pre>\n"
      ],
      "text/plain": [
       "\u001b[1m Trainable params: \u001b[0m\u001b[38;5;34m321,406\u001b[0m (1.23 MB)\n"
      ]
     },
     "metadata": {},
     "output_type": "display_data"
    },
    {
     "data": {
      "text/html": [
       "<pre style=\"white-space:pre;overflow-x:auto;line-height:normal;font-family:Menlo,'DejaVu Sans Mono',consolas,'Courier New',monospace\"><span style=\"font-weight: bold\"> Non-trainable params: </span><span style=\"color: #00af00; text-decoration-color: #00af00\">0</span> (0.00 B)\n",
       "</pre>\n"
      ],
      "text/plain": [
       "\u001b[1m Non-trainable params: \u001b[0m\u001b[38;5;34m0\u001b[0m (0.00 B)\n"
      ]
     },
     "metadata": {},
     "output_type": "display_data"
    },
    {
     "data": {
      "text/html": [
       "<pre style=\"white-space:pre;overflow-x:auto;line-height:normal;font-family:Menlo,'DejaVu Sans Mono',consolas,'Courier New',monospace\"><span style=\"font-weight: bold\"> Optimizer params: </span><span style=\"color: #00af00; text-decoration-color: #00af00\">321,408</span> (1.23 MB)\n",
       "</pre>\n"
      ],
      "text/plain": [
       "\u001b[1m Optimizer params: \u001b[0m\u001b[38;5;34m321,408\u001b[0m (1.23 MB)\n"
      ]
     },
     "metadata": {},
     "output_type": "display_data"
    }
   ],
   "source": [
    "c_model.summary()\n",
    "\n",
    "if TRAIN:\n",
    "    q_model.save('models/c_model.keras')\n",
    "    with open('histories/c_history.pkl', 'wb') as f:\n",
    "        pickle.dump(c_history, f)"
   ]
  },
  {
   "cell_type": "code",
   "execution_count": 21,
   "id": "d2b07e21-18a7-43d2-9a7f-5f67c65f0d65",
   "metadata": {},
   "outputs": [
    {
     "data": {
      "text/html": [
       "<pre style=\"white-space:pre;overflow-x:auto;line-height:normal;font-family:Menlo,'DejaVu Sans Mono',consolas,'Courier New',monospace\"><span style=\"font-weight: bold\">Model: \"sequential_35\"</span>\n",
       "</pre>\n"
      ],
      "text/plain": [
       "\u001b[1mModel: \"sequential_35\"\u001b[0m\n"
      ]
     },
     "metadata": {},
     "output_type": "display_data"
    },
    {
     "data": {
      "text/html": [
       "<pre style=\"white-space:pre;overflow-x:auto;line-height:normal;font-family:Menlo,'DejaVu Sans Mono',consolas,'Courier New',monospace\">┏━━━━━━━━━━━━━━━━━━━━━━━━━━━━━━━━━━━━━━┳━━━━━━━━━━━━━━━━━━━━━━━━━━━━━┳━━━━━━━━━━━━━━━━━┓\n",
       "┃<span style=\"font-weight: bold\"> Layer (type)                         </span>┃<span style=\"font-weight: bold\"> Output Shape                </span>┃<span style=\"font-weight: bold\">         Param # </span>┃\n",
       "┡━━━━━━━━━━━━━━━━━━━━━━━━━━━━━━━━━━━━━━╇━━━━━━━━━━━━━━━━━━━━━━━━━━━━━╇━━━━━━━━━━━━━━━━━┩\n",
       "│ flatten_35 (<span style=\"color: #0087ff; text-decoration-color: #0087ff\">Flatten</span>)                 │ (<span style=\"color: #00d7ff; text-decoration-color: #00d7ff\">None</span>, <span style=\"color: #00af00; text-decoration-color: #00af00\">1600</span>)                │               <span style=\"color: #00af00; text-decoration-color: #00af00\">0</span> │\n",
       "├──────────────────────────────────────┼─────────────────────────────┼─────────────────┤\n",
       "│ dense_88 (<span style=\"color: #0087ff; text-decoration-color: #0087ff\">Dense</span>)                     │ (<span style=\"color: #00d7ff; text-decoration-color: #00d7ff\">None</span>, <span style=\"color: #00af00; text-decoration-color: #00af00\">200</span>)                 │         <span style=\"color: #00af00; text-decoration-color: #00af00\">320,200</span> │\n",
       "├──────────────────────────────────────┼─────────────────────────────┼─────────────────┤\n",
       "│ dense_89 (<span style=\"color: #0087ff; text-decoration-color: #0087ff\">Dense</span>)                     │ (<span style=\"color: #00d7ff; text-decoration-color: #00d7ff\">None</span>, <span style=\"color: #00af00; text-decoration-color: #00af00\">6</span>)                   │           <span style=\"color: #00af00; text-decoration-color: #00af00\">1,206</span> │\n",
       "└──────────────────────────────────────┴─────────────────────────────┴─────────────────┘\n",
       "</pre>\n"
      ],
      "text/plain": [
       "┏━━━━━━━━━━━━━━━━━━━━━━━━━━━━━━━━━━━━━━┳━━━━━━━━━━━━━━━━━━━━━━━━━━━━━┳━━━━━━━━━━━━━━━━━┓\n",
       "┃\u001b[1m \u001b[0m\u001b[1mLayer (type)                        \u001b[0m\u001b[1m \u001b[0m┃\u001b[1m \u001b[0m\u001b[1mOutput Shape               \u001b[0m\u001b[1m \u001b[0m┃\u001b[1m \u001b[0m\u001b[1m        Param #\u001b[0m\u001b[1m \u001b[0m┃\n",
       "┡━━━━━━━━━━━━━━━━━━━━━━━━━━━━━━━━━━━━━━╇━━━━━━━━━━━━━━━━━━━━━━━━━━━━━╇━━━━━━━━━━━━━━━━━┩\n",
       "│ flatten_35 (\u001b[38;5;33mFlatten\u001b[0m)                 │ (\u001b[38;5;45mNone\u001b[0m, \u001b[38;5;34m1600\u001b[0m)                │               \u001b[38;5;34m0\u001b[0m │\n",
       "├──────────────────────────────────────┼─────────────────────────────┼─────────────────┤\n",
       "│ dense_88 (\u001b[38;5;33mDense\u001b[0m)                     │ (\u001b[38;5;45mNone\u001b[0m, \u001b[38;5;34m200\u001b[0m)                 │         \u001b[38;5;34m320,200\u001b[0m │\n",
       "├──────────────────────────────────────┼─────────────────────────────┼─────────────────┤\n",
       "│ dense_89 (\u001b[38;5;33mDense\u001b[0m)                     │ (\u001b[38;5;45mNone\u001b[0m, \u001b[38;5;34m6\u001b[0m)                   │           \u001b[38;5;34m1,206\u001b[0m │\n",
       "└──────────────────────────────────────┴─────────────────────────────┴─────────────────┘\n"
      ]
     },
     "metadata": {},
     "output_type": "display_data"
    },
    {
     "data": {
      "text/html": [
       "<pre style=\"white-space:pre;overflow-x:auto;line-height:normal;font-family:Menlo,'DejaVu Sans Mono',consolas,'Courier New',monospace\"><span style=\"font-weight: bold\"> Total params: </span><span style=\"color: #00af00; text-decoration-color: #00af00\">642,814</span> (2.45 MB)\n",
       "</pre>\n"
      ],
      "text/plain": [
       "\u001b[1m Total params: \u001b[0m\u001b[38;5;34m642,814\u001b[0m (2.45 MB)\n"
      ]
     },
     "metadata": {},
     "output_type": "display_data"
    },
    {
     "data": {
      "text/html": [
       "<pre style=\"white-space:pre;overflow-x:auto;line-height:normal;font-family:Menlo,'DejaVu Sans Mono',consolas,'Courier New',monospace\"><span style=\"font-weight: bold\"> Trainable params: </span><span style=\"color: #00af00; text-decoration-color: #00af00\">321,406</span> (1.23 MB)\n",
       "</pre>\n"
      ],
      "text/plain": [
       "\u001b[1m Trainable params: \u001b[0m\u001b[38;5;34m321,406\u001b[0m (1.23 MB)\n"
      ]
     },
     "metadata": {},
     "output_type": "display_data"
    },
    {
     "data": {
      "text/html": [
       "<pre style=\"white-space:pre;overflow-x:auto;line-height:normal;font-family:Menlo,'DejaVu Sans Mono',consolas,'Courier New',monospace\"><span style=\"font-weight: bold\"> Non-trainable params: </span><span style=\"color: #00af00; text-decoration-color: #00af00\">0</span> (0.00 B)\n",
       "</pre>\n"
      ],
      "text/plain": [
       "\u001b[1m Non-trainable params: \u001b[0m\u001b[38;5;34m0\u001b[0m (0.00 B)\n"
      ]
     },
     "metadata": {},
     "output_type": "display_data"
    },
    {
     "data": {
      "text/html": [
       "<pre style=\"white-space:pre;overflow-x:auto;line-height:normal;font-family:Menlo,'DejaVu Sans Mono',consolas,'Courier New',monospace\"><span style=\"font-weight: bold\"> Optimizer params: </span><span style=\"color: #00af00; text-decoration-color: #00af00\">321,408</span> (1.23 MB)\n",
       "</pre>\n"
      ],
      "text/plain": [
       "\u001b[1m Optimizer params: \u001b[0m\u001b[38;5;34m321,408\u001b[0m (1.23 MB)\n"
      ]
     },
     "metadata": {},
     "output_type": "display_data"
    }
   ],
   "source": [
    "c_model2.summary()\n",
    "\n",
    "if TRAIN:\n",
    "    q_model.save('models/c_model2.keras')\n",
    "    with open('histories/c_history2.pkl', 'wb') as f:\n",
    "        pickle.dump(c_history2, f)"
   ]
  },
  {
   "cell_type": "markdown",
   "id": "32966f3a-30a3-4811-a6eb-13dca9a9dce1",
   "metadata": {},
   "source": [
    "## Evaluation metrics"
   ]
  },
  {
   "cell_type": "markdown",
   "id": "0f8a4bd5-004c-4adb-9d54-cdf7c97b7bf9",
   "metadata": {},
   "source": [
    "In the following plot, the evolution of accuracies of the 3 models can be seen. The quantum preprocessed model outperform the rest models. It achieves an accuracy over $80\\%$ before the first 20 epochs, and is the only one which overcome the limit of a $90\\%$ of accuracy. This outperforming is also reflected at the loss evolution function, where this model was only one able to go below the loss of $0.5$."
   ]
  },
  {
   "cell_type": "code",
   "execution_count": 22,
   "id": "6d269b1a-1d5e-4bc2-991b-9a6bd5865a7e",
   "metadata": {},
   "outputs": [
    {
     "data": {
      "image/png": "[encoded data removed]",
      "text/plain": [
       "<Figure size 600x900 with 2 Axes>"
      ]
     },
     "metadata": {},
     "output_type": "display_data"
    }
   ],
   "source": [
    "import matplotlib.pyplot as plt\n",
    "\n",
    "fig, (ax1, ax2) = plt.subplots(2, 1, figsize=(6, 9))\n",
    "\n",
    "ax1.plot(q_history.history[\"val_accuracy\"], \"purple\", label=\"With quantum convolution\")\n",
    "ax1.plot(c_history2.history[\"val_accuracy\"], \"blue\", label=\"With classical convolution\")\n",
    "ax1.plot(c_history.history[\"val_accuracy\"], \"green\", label=\"Without any convolution\")\n",
    "\n",
    "\n",
    "ax1.set_ylabel(\"Accuracy\")\n",
    "ax1.set_ylim([0, 1])\n",
    "ax1.set_xlabel(\"Epoch\")\n",
    "ax1.legend()\n",
    "\n",
    "ax2.plot(q_history.history[\"val_loss\"], \"purple\", label=\"With quantum convolution\")\n",
    "ax2.plot(c_history2.history[\"val_loss\"], \"blue\", label=\"With classical convolution\")\n",
    "ax2.plot(c_history.history[\"val_loss\"], \"green\", label=\"Without any convolution\")\n",
    "\n",
    "ax2.set_ylabel(\"Loss\")\n",
    "ax2.set_ylim(top=2.5)\n",
    "ax2.set_xlabel(\"Epoch\")\n",
    "ax2.legend()\n",
    "plt.tight_layout()\n",
    "plt.show()"
   ]
  },
  {
   "cell_type": "markdown",
   "id": "d94f9bbb-1e0c-42c3-9ee7-f82bbd859507",
   "metadata": {},
   "source": [
    "## Test metric"
   ]
  },
  {
   "cell_type": "code",
   "execution_count": 24,
   "id": "af85029c-5b26-41f4-b117-f9cb812dc3f1",
   "metadata": {},
   "outputs": [
    {
     "name": "stdout",
     "output_type": "stream",
     "text": [
      "\u001b[1m5/5\u001b[0m \u001b[32m━━━━━━━━━━━━━━━━━━━━\u001b[0m\u001b[37m\u001b[0m \u001b[1m0s\u001b[0m 14ms/step\n"
     ]
    }
   ],
   "source": [
    "test_predicts = np.argmax(q_model.predict(q_test_images), axis=1)"
   ]
  },
  {
   "cell_type": "markdown",
   "id": "cfb479de-eb30-4af7-ad99-d0010b50cea4",
   "metadata": {},
   "source": [
    "The general confussion matrix gives awesome results, showing that most of the prediction keeps in the main diagonal of the matrix."
   ]
  },
  {
   "cell_type": "code",
   "execution_count": 25,
   "id": "1e9a469c-ae7c-45e8-ab80-492c8028c50d",
   "metadata": {},
   "outputs": [
    {
     "data": {
      "image/png": "[encoded data removed]",
      "text/plain": [
       "<Figure size 1000x400 with 2 Axes>"
      ]
     },
     "metadata": {},
     "output_type": "display_data"
    }
   ],
   "source": [
    "import seaborn as sns\n",
    "\n",
    "cm = confusion_matrix(test_labels, test_predicts)\n",
    "classes = ['good weld', 'burn through', 'contamination', 'lack of fusion', 'misalignment' , 'lack of penetration']\n",
    "\n",
    "# Create a heatmap to visualize the confusion matrix\n",
    "plt.figure(figsize=(10, 4))\n",
    "\n",
    "sns.heatmap(cm, annot=True, fmt='d', cmap='Blues', \n",
    "            xticklabels=classes,  # replace with your class names\n",
    "            yticklabels=classes)  # replace with your class names\n",
    "plt.xticks(rotation=35)\n",
    "\n",
    "plt.xlabel('Predicted')\n",
    "plt.ylabel('True')\n",
    "plt.title('Confusion Matrix')\n",
    "plt.show()\n"
   ]
  },
  {
   "cell_type": "markdown",
   "id": "bbc13d9c-f550-4cd0-921c-c8cb5261cf54",
   "metadata": {},
   "source": [
    "With respect the detailed precision, recall and F1 score, a particular improvement could be considered. The lowest precision is the one of class 0. That means that with a $13\\%$ of probability a failed production part will be bad classified as good weld. This could end up in problems during the next processes of manufacturing. Due to this particular domain, a false positive is much more dangerous than a false negative. Trying that the NN ends up beeing more restrictive to classifying an image as good weld is important so as to increase the precision metric."
   ]
  },
  {
   "cell_type": "code",
   "execution_count": 26,
   "id": "7d67d981-c3d4-419c-a77f-3b02ecc2d74e",
   "metadata": {},
   "outputs": [
    {
     "data": {
      "text/html": [
       "<style type=\"text/css\">\n",
       "#T_407b1 td.col0 {\n",
       "  font-weight: bold;\n",
       "}\n",
       "#T_407b1 td.col1 {\n",
       "  font-size: 12px;\n",
       "}\n",
       "#T_407b1 td.col2 {\n",
       "  font-size: 12px;\n",
       "}\n",
       "#T_407b1 td.col3 {\n",
       "  font-size: 12px;\n",
       "}\n",
       "</style>\n",
       "<table id=\"T_407b1\">\n",
       "  <caption>Metrics</caption>\n",
       "  <thead>\n",
       "    <tr>\n",
       "      <th class=\"blank level0\" >&nbsp;</th>\n",
       "      <th id=\"T_407b1_level0_col0\" class=\"col_heading level0 col0\" >Class</th>\n",
       "      <th id=\"T_407b1_level0_col1\" class=\"col_heading level0 col1\" >Precision</th>\n",
       "      <th id=\"T_407b1_level0_col2\" class=\"col_heading level0 col2\" >Recall</th>\n",
       "      <th id=\"T_407b1_level0_col3\" class=\"col_heading level0 col3\" >F1 Score</th>\n",
       "    </tr>\n",
       "  </thead>\n",
       "  <tbody>\n",
       "    <tr>\n",
       "      <th id=\"T_407b1_level0_row0\" class=\"row_heading level0 row0\" >0</th>\n",
       "      <td id=\"T_407b1_row0_col0\" class=\"data row0 col0\" >good weld</td>\n",
       "      <td id=\"T_407b1_row0_col1\" class=\"data row0 col1\" >0.87</td>\n",
       "      <td id=\"T_407b1_row0_col2\" class=\"data row0 col2\" >0.96</td>\n",
       "      <td id=\"T_407b1_row0_col3\" class=\"data row0 col3\" >0.92</td>\n",
       "    </tr>\n",
       "    <tr>\n",
       "      <th id=\"T_407b1_level0_row1\" class=\"row_heading level0 row1\" >1</th>\n",
       "      <td id=\"T_407b1_row1_col0\" class=\"data row1 col0\" >burn through</td>\n",
       "      <td id=\"T_407b1_row1_col1\" class=\"data row1 col1\" >1.00</td>\n",
       "      <td id=\"T_407b1_row1_col2\" class=\"data row1 col2\" >0.93</td>\n",
       "      <td id=\"T_407b1_row1_col3\" class=\"data row1 col3\" >0.97</td>\n",
       "    </tr>\n",
       "    <tr>\n",
       "      <th id=\"T_407b1_level0_row2\" class=\"row_heading level0 row2\" >2</th>\n",
       "      <td id=\"T_407b1_row2_col0\" class=\"data row2 col0\" >contamination</td>\n",
       "      <td id=\"T_407b1_row2_col1\" class=\"data row2 col1\" >0.96</td>\n",
       "      <td id=\"T_407b1_row2_col2\" class=\"data row2 col2\" >0.93</td>\n",
       "      <td id=\"T_407b1_row2_col3\" class=\"data row2 col3\" >0.95</td>\n",
       "    </tr>\n",
       "    <tr>\n",
       "      <th id=\"T_407b1_level0_row3\" class=\"row_heading level0 row3\" >3</th>\n",
       "      <td id=\"T_407b1_row3_col0\" class=\"data row3 col0\" >lack of fusion</td>\n",
       "      <td id=\"T_407b1_row3_col1\" class=\"data row3 col1\" >1.00</td>\n",
       "      <td id=\"T_407b1_row3_col2\" class=\"data row3 col2\" >1.00</td>\n",
       "      <td id=\"T_407b1_row3_col3\" class=\"data row3 col3\" >1.00</td>\n",
       "    </tr>\n",
       "    <tr>\n",
       "      <th id=\"T_407b1_level0_row4\" class=\"row_heading level0 row4\" >4</th>\n",
       "      <td id=\"T_407b1_row4_col0\" class=\"data row4 col0\" >misalignment</td>\n",
       "      <td id=\"T_407b1_row4_col1\" class=\"data row4 col1\" >0.96</td>\n",
       "      <td id=\"T_407b1_row4_col2\" class=\"data row4 col2\" >0.93</td>\n",
       "      <td id=\"T_407b1_row4_col3\" class=\"data row4 col3\" >0.95</td>\n",
       "    </tr>\n",
       "    <tr>\n",
       "      <th id=\"T_407b1_level0_row5\" class=\"row_heading level0 row5\" >5</th>\n",
       "      <td id=\"T_407b1_row5_col0\" class=\"data row5 col0\" >lack of penetration</td>\n",
       "      <td id=\"T_407b1_row5_col1\" class=\"data row5 col1\" >1.00</td>\n",
       "      <td id=\"T_407b1_row5_col2\" class=\"data row5 col2\" >1.00</td>\n",
       "      <td id=\"T_407b1_row5_col3\" class=\"data row5 col3\" >1.00</td>\n",
       "    </tr>\n",
       "  </tbody>\n",
       "</table>\n"
      ],
      "text/plain": [
       "<pandas.io.formats.style.Styler at 0x2b68ed09240>"
      ]
     },
     "execution_count": 26,
     "metadata": {},
     "output_type": "execute_result"
    }
   ],
   "source": [
    "# Calculate precision, recall, and F1 score for each class\n",
    "precision = precision_score(test_labels, test_predicts, average=None)\n",
    "recall = recall_score(test_labels, test_predicts, average=None)\n",
    "f1 = f1_score(test_labels, test_predicts, average=None)\n",
    "\n",
    "# Create a DataFrame to hold the metrics\n",
    "metrics_df = pd.DataFrame({\n",
    "    'Class': [f'{i}' for i in classes],\n",
    "    'Precision': precision,\n",
    "    'Recall': recall,\n",
    "    'F1 Score': f1\n",
    "})\n",
    "\n",
    "# Style the DataFrame\n",
    "styled_df = metrics_df.style.format({\n",
    "    'Precision': '{:.2f}',\n",
    "    'Recall': '{:.2f}',\n",
    "    'F1 Score': '{:.2f}'\n",
    "}).set_table_styles({\n",
    "    'Class': [{'selector': 'td', 'props': 'font-weight: bold;'}],\n",
    "    'Precision': [{'selector': 'td', 'props': 'font-size: 12px;'}],\n",
    "    'Recall': [{'selector': 'td', 'props': 'font-size: 12px;'}],\n",
    "    'F1 Score': [{'selector': 'td', 'props': 'font-size: 12px;'}]\n",
    "}).set_caption('Metrics')\n",
    "\n",
    "styled_df"
   ]
  }
 ],
 "metadata": {
  "kernelspec": {
   "display_name": "Python 3 (ipykernel)",
   "language": "python",
   "name": "python3"
  },
  "language_info": {
   "codemirror_mode": {
    "name": "ipython",
    "version": 3
   },
   "file_extension": ".py",
   "mimetype": "text/x-python",
   "name": "python",
   "nbconvert_exporter": "python",
   "pygments_lexer": "ipython3",
   "version": "3.10.13"
  }
 },
 "nbformat": 4,
 "nbformat_minor": 5
}
