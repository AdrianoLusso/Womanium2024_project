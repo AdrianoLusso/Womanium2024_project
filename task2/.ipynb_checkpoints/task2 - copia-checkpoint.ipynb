{
 "cells": [
  {
   "cell_type": "markdown",
   "id": "7881fd2f-a130-4995-b887-9f2d7a3a0811",
   "metadata": {},
   "source": [
    "# Project task 2 "
   ]
  },
  {
   "cell_type": "markdown",
   "id": "2e13d15a-23c7-4976-942d-9f03b4d93392",
   "metadata": {},
   "source": [
    "To familiarize yourself with the basic workflow in Quantum Machine Learning, work through the tutorial on [Variational Classifier](https://pennylane.ai/qml/demos/tutorial_variational_classifier/). Implement and present the usual steps in this\n",
    "workflow and explain in your own words the purpose of each step."
   ]
  },
  {
   "cell_type": "markdown",
   "id": "1ffcb689-03a5-4c19-b45a-de0068ed48f9",
   "metadata": {},
   "source": [
    "## 1. Fitting the parity function"
   ]
  },
  {
   "cell_type": "markdown",
   "id": "0face049-981b-4977-a265-25aaf33052a8",
   "metadata": {},
   "source": [
    "### imports"
   ]
  },
  {
   "cell_type": "code",
   "execution_count": 1,
   "id": "4dbe6799-5ffa-48af-a6e9-1ae132909762",
   "metadata": {},
   "outputs": [],
   "source": [
    "import pennylane as qml\n",
    "from pennylane import numpy as np\n",
    "from pennylane.optimize import NesterovMomentumOptimizer"
   ]
  },
  {
   "cell_type": "markdown",
   "id": "6fec1ac2-b0dc-454b-93a5-5c4d10f31ae6",
   "metadata": {},
   "source": [
    "### Quantum and classical nodes\r\n"
   ]
  },
  {
   "cell_type": "code",
   "execution_count": 2,
   "id": "40ff0a0e-41f6-4f97-a2c2-e13e0d72339c",
   "metadata": {},
   "outputs": [],
   "source": [
    "# we create the quantum device that will run the circuits\n",
    "dev = qml.device(\"default.qubit\")"
   ]
  },
  {
   "cell_type": "markdown",
   "id": "a6ef947e-c5bb-4cde-915d-8435e76b4f94",
   "metadata": {},
   "source": [
    "A variational classifier define a \"layer\". This is a subprocedure of the circuit architecture that is repeated $n$ times, so as to build tot full variational circuit.\n",
    "\n",
    "The layer construction consist of four qubits/wires with arbitrary rotations on each qubit. Then, some CXs will be used for entangling the qubits with their neighbours.\n",
    "\n",
    "This parameters will be called $\\textbf{weights}$, a term borrowed from classical machine learning."
   ]
  },
  {
   "cell_type": "code",
   "execution_count": 3,
   "id": "eab74f30-4906-421c-b310-5a96e06faf81",
   "metadata": {},
   "outputs": [],
   "source": [
    "def layer(layer_weights):\n",
    "    for wire in range(4):\n",
    "        qml.Rot(*layer_weights[wire], wires=wire)\n",
    "\n",
    "    for wires in ([0, 1], [1, 2], [2, 3], [3, 0]):\n",
    "        qml.CNOT(wires)"
   ]
  },
  {
   "cell_type": "markdown",
   "id": "1cebb430-fac7-47a9-a8c3-e8cb7ccd5fd0",
   "metadata": {},
   "source": [
    "EXPLICAR"
   ]
  },
  {
   "cell_type": "code",
   "execution_count": 4,
   "id": "5c9e842f-b07c-49fd-a001-a0b0070b8994",
   "metadata": {},
   "outputs": [],
   "source": [
    "def state_preparation(x):\n",
    "    qml.BasisState(x, wires=[0, 1, 2, 3])"
   ]
  },
  {
   "cell_type": "markdown",
   "id": "9a130f82-b77e-4b50-9140-c13e4e43fb6f",
   "metadata": {},
   "source": [
    " Finally, the hole quantum circuit of the classifier is defined, being it the state preparation followed by $n=1$ repetions of the layer."
   ]
  },
  {
   "cell_type": "code",
   "execution_count": 79,
   "id": "65b397cd-eaf0-4f6e-93d1-dad6bfbaa514",
   "metadata": {},
   "outputs": [],
   "source": [
    "@qml.qnode(dev)\n",
    "def circuit(weights, x):\n",
    "    # state preparation\n",
    "    qml.Hadamard(wires=0)\n",
    "    qml.RZ(x,wires=0)\n",
    "\n",
    "    # layer\n",
    "    qml.RX(weights[0] * np.pi,wires=0)\n",
    "    \n",
    "    return qml.expval(qml.PauliZ(0))"
   ]
  },
  {
   "cell_type": "code",
   "execution_count": 14,
   "id": "66d55823-0ba1-4fa1-a32b-3debb54abc48",
   "metadata": {},
   "outputs": [],
   "source": [
    "@qml.qnode(dev)\n",
    "def circuit(weights, x):\n",
    "    state_preparation(x)\n",
    "\n",
    "    for layer_weights in weights:\n",
    "        layer(layer_weights)\n",
    "\n",
    "    return qml.expval(qml.PauliZ(0))"
   ]
  },
  {
   "cell_type": "markdown",
   "id": "b13dd57f-9020-4f1a-b614-742fdbec4df9",
   "metadata": {},
   "source": [
    "A classical bias (something taken from classical neural networks) parameter could be added. This end up in the complete variational classifier."
   ]
  },
  {
   "cell_type": "code",
   "execution_count": 6,
   "id": "6d48a490-3a70-42ab-9422-a6aaf4a53191",
   "metadata": {},
   "outputs": [],
   "source": [
    "def variational_classifier(weights, bias, x):\n",
    "    return circuit(weights, x) + bias"
   ]
  },
  {
   "cell_type": "markdown",
   "id": "fac38158-251a-48d4-993c-5a6281842299",
   "metadata": {},
   "source": [
    "### Costs"
   ]
  },
  {
   "cell_type": "markdown",
   "id": "b46beab9-82cc-444a-8e24-fcdd2ab12a40",
   "metadata": {},
   "source": [
    "In supervised learning, the cost function usually is the sum of the loss function an a regularizer. For the loss function, it will be used the standard square loss function. This measures the distance between the target labels and the model predictions."
   ]
  },
  {
   "cell_type": "markdown",
   "id": "c7465e79-5c85-4658-86be-f87911aeb975",
   "metadata": {},
   "source": [
    "PREGUNTAR , como funciona el qml.math.stack???"
   ]
  },
  {
   "cell_type": "code",
   "execution_count": 7,
   "id": "3a716f88-9b6f-4fc4-a2e1-00c4064c3082",
   "metadata": {},
   "outputs": [],
   "source": [
    "def square_loss(labels, predictions):\n",
    "    # We use a call to qml.math.stack to allow subtracting the arrays directly\n",
    "    return np.mean((labels - qml.math.stack(predictions)) ** 2)"
   ]
  },
  {
   "cell_type": "markdown",
   "id": "4b807e43-7c6c-4e6b-8e97-7cae2f552206",
   "metadata": {},
   "source": [
    "The amount of inputs the classifier prediced correctly is characterized by the $\\textbf{accuracy}$. This is the proportion of predictions that agree with the set of target labels. In this case, we are not looking $\\textbf{exaclty}$ the same value for a prediction and its corresponding label. What it is done is looking the predictions which difference with its label is smaller than $1e-5$. If that is the case, the prediction is considered succesful."
   ]
  },
  {
   "cell_type": "code",
   "execution_count": 8,
   "id": "3feaa953-c295-4a1b-91f3-a6c3306d75e4",
   "metadata": {},
   "outputs": [],
   "source": [
    "def accuracy(labels, predictions):\n",
    "    acc = sum(abs(l - p) < 1e-5 for l, p in zip(labels, predictions))\n",
    "    acc = acc / len(labels)\n",
    "    return acc"
   ]
  },
  {
   "cell_type": "markdown",
   "id": "ebc6e441-9730-4475-bbb3-a6bd6e7244d2",
   "metadata": {},
   "source": [
    "The cost is defines as the square loss of all the predictions with its labels. For that, first the variational classifier is used for each data in the domain set X."
   ]
  },
  {
   "cell_type": "code",
   "execution_count": 9,
   "id": "dff694df-d99b-4038-9305-d610c4443b89",
   "metadata": {},
   "outputs": [],
   "source": [
    "def cost(weights, bias, X, Y):\n",
    "    predictions = [variational_classifier(weights, bias, x) for x in X]\n",
    "    return square_loss(Y, predictions)"
   ]
  },
  {
   "cell_type": "markdown",
   "id": "349124cb-8ffe-4dd5-94de-efb4fe62f3b8",
   "metadata": {},
   "source": [
    "### Optimization"
   ]
  },
  {
   "cell_type": "markdown",
   "id": "c9c23404-dbf8-4a7f-81d3-f3502a69def6",
   "metadata": {},
   "source": [
    "The train and test set are loaded"
   ]
  },
  {
   "cell_type": "code",
   "execution_count": 10,
   "id": "4d0564cb-15ba-4c67-856d-db37f6aa89cd",
   "metadata": {},
   "outputs": [
    {
     "name": "stdout",
     "output_type": "stream",
     "text": [
      "x = [0 0 0 1], y = 1\n",
      "x = [0 0 1 0], y = 1\n",
      "x = [0 1 0 0], y = 1\n",
      "x = [0 1 0 1], y = -1\n",
      "x = [0 1 1 0], y = -1\n",
      "x = [0 1 1 1], y = 1\n",
      "x = [1 0 0 0], y = 1\n",
      "x = [1 0 0 1], y = -1\n",
      "x = [1 0 1 1], y = 1\n",
      "x = [1 1 1 1], y = -1\n"
     ]
    }
   ],
   "source": [
    "data = np.loadtxt(\"./parity_train.txt\",dtype=int)\n",
    "#using slicing, select all the rows and all the columns except the last one for the domain set X\n",
    "X = np.array(data[:, :-1])\n",
    "#using slicing, select all the rows and the last column for the range set Y, also called the 'labels'\n",
    "Y = np.array(data[:, -1])\n",
    "Y = Y * 2 - 1  # shift label from {0, 1} to {-1, 1}\n",
    "\n",
    "for x,y in zip(X, Y):\n",
    "    print(f\"x = {x}, y = {y}\")"
   ]
  },
  {
   "cell_type": "markdown",
   "id": "a177b590-e07d-4ea2-97e0-c867544e3f07",
   "metadata": {},
   "source": [
    "the variables are initialized randomly using a seed. One of the variables is used as bias, while the rest are used as angles for the rotation gates in the variational circuit.\n",
    "\n",
    "The function $\\texttt{randn}$ from np will be used. This function initializes a tensor of weights, where...\n",
    "\n",
    "* num_layers: defines the size of the first dimension of the tensor\n",
    "* num_qubits: defines the size of the second dimension of the tensor\n",
    "* the third parameter, the integer $3$, defined the size of the third dimension of the tensor\n",
    "* requires_grad: says that it should be done a following of the operations applied in the tensor.\n",
    "\n",
    "The weights are normalized multiplying them by 0.01"
   ]
  },
  {
   "cell_type": "code",
   "execution_count": 11,
   "id": "56c4126d-d49f-4a32-9f4e-a42ea800924a",
   "metadata": {},
   "outputs": [
    {
     "name": "stdout",
     "output_type": "stream",
     "text": [
      "Weights: [[[ 0.01764052  0.00400157  0.00978738]\n",
      "  [ 0.02240893  0.01867558 -0.00977278]\n",
      "  [ 0.00950088 -0.00151357 -0.00103219]\n",
      "  [ 0.00410599  0.00144044  0.01454274]]\n",
      "\n",
      " [[ 0.00761038  0.00121675  0.00443863]\n",
      "  [ 0.00333674  0.01494079 -0.00205158]\n",
      "  [ 0.00313068 -0.00854096 -0.0255299 ]\n",
      "  [ 0.00653619  0.00864436 -0.00742165]]]\n",
      "Bias:  0.0\n"
     ]
    }
   ],
   "source": [
    "np.random.seed(0)\n",
    "num_qubits = 4\n",
    "num_layers = 2\n",
    "weights_init = 0.01 * np.random.randn(num_layers, num_qubits, 3, requires_grad=True)\n",
    "bias_init = np.array(0.0, requires_grad=True)\n",
    "\n",
    "print(\"Weights:\", weights_init)\n",
    "print(\"Bias: \", bias_init)"
   ]
  },
  {
   "cell_type": "markdown",
   "id": "e3fa5ac8-7f25-4372-984e-938443d7b820",
   "metadata": {},
   "source": [
    "An optimizer is created, with a step size of $0.5$."
   ]
  },
  {
   "cell_type": "code",
   "execution_count": 88,
   "id": "33bcb221-94f0-4181-9e3b-bc67e5f0de30",
   "metadata": {},
   "outputs": [],
   "source": [
    "optimizer = NesterovMomentumOptimizer(0.2)\n",
    "batch_size = 5"
   ]
  },
  {
   "cell_type": "markdown",
   "id": "eaad11cc-1945-4031-806c-b9860716f0be",
   "metadata": {},
   "source": [
    "# MIS DATOS"
   ]
  },
  {
   "cell_type": "code",
   "execution_count": 92,
   "id": "87be684a-ee04-4d5b-85d5-4487f0b8cac2",
   "metadata": {},
   "outputs": [
    {
     "data": {
      "image/png": "[encoded data removed]",
      "text/plain": [
       "<Figure size 640x480 with 1 Axes>"
      ]
     },
     "metadata": {},
     "output_type": "display_data"
    }
   ],
   "source": [
    "import matplotlib.pyplot as plt\n",
    "\n",
    "a = 0\n",
    "b = 2 * np.pi\n",
    "\n",
    "n_points = 100\n",
    "\n",
    "# generate 'n_points'amount of equidistant points in the range [a,b]\n",
    "X = np.linspace(a, b, n_points)\n",
    "\n",
    "# calculate the sin function for x\n",
    "Y = np.sin(X)\n",
    "\n",
    "# plot the discrete function\n",
    "plt.plot(X, Y, label='y')\n",
    "plt.title('sin funtion')\n",
    "plt.xlabel('x')\n",
    "plt.ylabel('y')\n",
    "plt.grid(True)\n",
    "\n",
    "# wirte the x-axis in terms of radians\n",
    "radian_ticks = np.linspace(0, 2 * np.pi, 5)  # Cambia el 5 por el número de etiquetas que quieras\n",
    "radian_labels = ['0', r'$\\frac{\\pi}{2}$', r'$\\pi$', r'$\\frac{3\\pi}{2}$', r'$2\\pi$']\n",
    "plt.xticks(radian_ticks, radian_labels)\n",
    "\n",
    "plt.show()\n"
   ]
  },
  {
   "cell_type": "code",
   "execution_count": 93,
   "id": "644bfacf-8807-4283-94ad-c6bfa1f5f1c3",
   "metadata": {},
   "outputs": [
    {
     "name": "stdout",
     "output_type": "stream",
     "text": [
      "Weights: [0.85160194]\n",
      "Bias:  0.0\n"
     ]
    }
   ],
   "source": [
    "#np.random.seed(0)\n",
    "num_qubits = 1\n",
    "num_layers = 1\n",
    "#weights_init = numero_aleatorio = np.random.rand()#np.random.randn(num_layers, num_qubits, 1, requires_grad=True)\n",
    "weights_init = 0.8\n",
    "#bias_init = np.array(0.0, requires_grad=True)\n",
    "#\n",
    "weights_init = np.random.randn(1,requires_grad=True)\n",
    "\n",
    "print(\"Weights:\", weights_init)\n",
    "print(\"Bias: \", bias_init)"
   ]
  },
  {
   "cell_type": "markdown",
   "id": "0c2532fb-20b9-461c-aab8-a94fb0cc542b",
   "metadata": {},
   "source": [
    "The optimizer is run to train the model."
   ]
  },
  {
   "cell_type": "code",
   "execution_count": 95,
   "id": "9969dfd1-f6a1-4b5a-b4b3-d09147afcce7",
   "metadata": {},
   "outputs": [
    {
     "name": "stdout",
     "output_type": "stream",
     "text": [
      "[0.85160194]\n",
      "Iter:    1 | Cost: 0.1095141 | [0.82232319]\n",
      "Iter:    2 | Cost: 0.0096811 | [0.66827847]\n",
      "Iter:    3 | Cost: 0.0005294 | [0.52881459]\n",
      "Iter:    4 | Cost: 0.0007233 | [0.41388058]\n",
      "Iter:    5 | Cost: 0.0023127 | [0.38222016]\n",
      "Iter:    6 | Cost: 0.0040560 | [0.36547646]\n",
      "Iter:    7 | Cost: 0.0044904 | [0.36415083]\n",
      "Iter:    8 | Cost: 0.0018407 | [0.39244123]\n",
      "Iter:    9 | Cost: 0.0004437 | [0.42217818]\n",
      "Iter:   10 | Cost: 0.0000914 | [0.45062088]\n",
      "Iter:   11 | Cost: 0.0000396 | [0.47674922]\n",
      "Iter:   12 | Cost: 0.0000196 | [0.50027124]\n",
      "Iter:   13 | Cost: 0.0000059 | [0.52135065]\n",
      "Iter:   14 | Cost: 0.0000317 | [0.53982124]\n",
      "Iter:   15 | Cost: 0.0001173 | [0.55541219]\n",
      "Iter:   16 | Cost: 0.0002392 | [0.5657232]\n",
      "Iter:   17 | Cost: 0.0002952 | [0.56870538]\n",
      "Iter:   18 | Cost: 0.0003573 | [0.56966617]\n",
      "Iter:   19 | Cost: 0.0002369 | [0.56602357]\n",
      "Iter:   20 | Cost: 0.0001818 | [0.56087617]\n",
      "Iter:   21 | Cost: 0.0002010 | [0.55562891]\n",
      "Iter:   22 | Cost: 0.0001285 | [0.54921363]\n",
      "Iter:   23 | Cost: 0.0000505 | [0.54280775]\n",
      "Iter:   24 | Cost: 0.0000211 | [0.53640338]\n",
      "Iter:   25 | Cost: 0.0000150 | [0.53048446]\n",
      "Iter:   26 | Cost: 0.0000111 | [0.52504635]\n",
      "Iter:   27 | Cost: 0.0000057 | [0.52009966]\n",
      "Iter:   28 | Cost: 0.0000012 | [0.51559779]\n",
      "Iter:   29 | Cost: 0.0000002 | [0.51151482]\n",
      "Iter:   30 | Cost: 0.0000003 | [0.50782588]\n",
      "Iter:   31 | Cost: 0.0000003 | [0.50450748]\n",
      "Iter:   32 | Cost: 0.0000001 | [0.50152038]\n",
      "Iter:   33 | Cost: 0.0000000 | [0.49883202]\n",
      "Iter:   34 | Cost: 0.0000000 | [0.49641302]\n",
      "Iter:   35 | Cost: 0.0000000 | [0.49423747]\n",
      "Iter:   36 | Cost: 0.0000001 | [0.49228462]\n",
      "Iter:   37 | Cost: 0.0000001 | [0.49053412]\n",
      "Iter:   38 | Cost: 0.0000002 | [0.48896928]\n",
      "Iter:   39 | Cost: 0.0000003 | [0.48757463]\n",
      "Iter:   40 | Cost: 0.0000004 | [0.4863503]\n",
      "Iter:   41 | Cost: 0.0000006 | [0.48528679]\n",
      "Iter:   42 | Cost: 0.0000007 | [0.48435923]\n",
      "Iter:   43 | Cost: 0.0000009 | [0.48358613]\n",
      "Iter:   44 | Cost: 0.0000010 | [0.48294297]\n",
      "Iter:   45 | Cost: 0.0000012 | [0.48241464]\n",
      "Iter:   46 | Cost: 0.0000013 | [0.48197917]\n",
      "Iter:   47 | Cost: 0.0000017 | [0.48165051]\n",
      "Iter:   48 | Cost: 0.0000017 | [0.48142831]\n",
      "Iter:   49 | Cost: 0.0000015 | [0.48131498]\n",
      "Iter:   50 | Cost: 0.0000016 | [0.48127341]\n",
      "Iter:   51 | Cost: 0.0000016 | [0.48131386]\n",
      "Iter:   52 | Cost: 0.0000015 | [0.48138961]\n",
      "Iter:   53 | Cost: 0.0000016 | [0.48152076]\n",
      "Iter:   54 | Cost: 0.0000014 | [0.48168752]\n",
      "Iter:   55 | Cost: 0.0000013 | [0.48192728]\n",
      "Iter:   56 | Cost: 0.0000014 | [0.48216623]\n",
      "Iter:   57 | Cost: 0.0000014 | [0.48241422]\n",
      "Iter:   58 | Cost: 0.0000012 | [0.4826963]\n",
      "Iter:   59 | Cost: 0.0000012 | [0.48298402]\n",
      "Iter:   60 | Cost: 0.0000012 | [0.48328255]\n",
      "Iter:   61 | Cost: 0.0000010 | [0.4835677]\n",
      "Iter:   62 | Cost: 0.0000009 | [0.48386648]\n",
      "Iter:   63 | Cost: 0.0000008 | [0.48419226]\n",
      "Iter:   64 | Cost: 0.0000007 | [0.48451021]\n",
      "Iter:   65 | Cost: 0.0000007 | [0.48482863]\n",
      "Iter:   66 | Cost: 0.0000006 | [0.48513971]\n",
      "Iter:   67 | Cost: 0.0000005 | [0.48545463]\n",
      "Iter:   68 | Cost: 0.0000005 | [0.4857821]\n",
      "Iter:   69 | Cost: 0.0000005 | [0.48610061]\n",
      "Iter:   70 | Cost: 0.0000004 | [0.48641976]\n",
      "Iter:   71 | Cost: 0.0000004 | [0.48673187]\n",
      "Iter:   72 | Cost: 0.0000004 | [0.48703836]\n",
      "Iter:   73 | Cost: 0.0000004 | [0.48732281]\n",
      "Iter:   74 | Cost: 0.0000003 | [0.48760614]\n",
      "Iter:   75 | Cost: 0.0000003 | [0.48787446]\n",
      "Iter:   76 | Cost: 0.0000003 | [0.48813618]\n",
      "Iter:   77 | Cost: 0.0000003 | [0.48838577]\n",
      "Iter:   78 | Cost: 0.0000002 | [0.4886228]\n",
      "Iter:   79 | Cost: 0.0000002 | [0.48885058]\n",
      "Iter:   80 | Cost: 0.0000002 | [0.48906701]\n",
      "Iter:   81 | Cost: 0.0000002 | [0.48927982]\n",
      "Iter:   82 | Cost: 0.0000002 | [0.48948209]\n",
      "Iter:   83 | Cost: 0.0000001 | [0.48967956]\n",
      "Iter:   84 | Cost: 0.0000001 | [0.48986643]\n",
      "Iter:   85 | Cost: 0.0000001 | [0.49004176]\n",
      "Iter:   86 | Cost: 0.0000001 | [0.49021068]\n",
      "Iter:   87 | Cost: 0.0000001 | [0.49036947]\n",
      "Iter:   88 | Cost: 0.0000001 | [0.49051784]\n",
      "Iter:   89 | Cost: 0.0000001 | [0.49065961]\n",
      "Iter:   90 | Cost: 0.0000001 | [0.49079971]\n",
      "Iter:   91 | Cost: 0.0000001 | [0.49093799]\n",
      "Iter:   92 | Cost: 0.0000001 | [0.4910695]\n",
      "Iter:   93 | Cost: 0.0000001 | [0.49119755]\n",
      "Iter:   94 | Cost: 0.0000001 | [0.49132084]\n",
      "Iter:   95 | Cost: 0.0000001 | [0.49143538]\n",
      "Iter:   96 | Cost: 0.0000001 | [0.49154983]\n",
      "Iter:   97 | Cost: 0.0000001 | [0.49165827]\n",
      "Iter:   98 | Cost: 0.0000001 | [0.49176175]\n",
      "Iter:   99 | Cost: 0.0000001 | [0.49185961]\n",
      "Iter:  100 | Cost: 0.0000001 | [0.49195451]\n",
      "[0.49195451]\n"
     ]
    }
   ],
   "source": [
    "weights = weights_init\n",
    "#weights =  np.array([0.5])\n",
    "bias = bias_init\n",
    "print(weights)\n",
    "for itr in range(100):\n",
    "\n",
    "    # Update the weights by one optimizer step, using only a limited batch of data\n",
    "    batch_index = np.random.randint(0, len(X), (batch_size,))\n",
    "    X_batch = X[batch_index]\n",
    "    Y_batch = Y[batch_index]\n",
    "    weights, bias = optimizer.step(cost, weights, bias, X=X_batch, Y=Y_batch)\n",
    "    #print(weights)\n",
    "    # Compute the predictions\n",
    "    predictions = [np.sign(variational_classifier(weights, bias, x)) for x in X]\n",
    "\n",
    "    #compute the current cost\n",
    "    current_cost = cost(weights, bias, X, Y)\n",
    "    # compute the accuracy for the training set. This will show how well is\n",
    "    # the classifier classifyng the training set\n",
    "    acc = accuracy(Y, predictions)\n",
    "\n",
    "    print(f\"Iter: {itr+1:4d} | Cost: {current_cost:0.7f} | {weights}\")#Accuracy: {acc:0.7f}\")\n",
    "    #print(weights)\n",
    "print(weights)"
   ]
  },
  {
   "cell_type": "markdown",
   "id": "efbe974f-ad95-4790-86b2-6e6fc905c467",
   "metadata": {},
   "source": [
    "While the accuracy of clasifying the training set arrives a $100\\%$, to really check how well the algorithm performs, it needs to be used with the test set. That is, with X that weren't used for the training. Using the test test for evaluating the performance could help to detect if a phenomenom called $\\textbf{overfitting}$ happened. This phenomemon means that the model get overfited to the training set values, in a way that it can't correctly generalize for instances that the model didn't experienced during the training.\n",
    "\n",
    "Now, the test set will be used to analyze how well the clasifyer is performing."
   ]
  },
  {
   "cell_type": "code",
   "execution_count": 41,
   "id": "06e5ba82-0326-4445-98f5-5900cb81d295",
   "metadata": {},
   "outputs": [
    {
     "name": "stdout",
     "output_type": "stream",
     "text": [
      "x = [0 0 0 0], y = -1, pred=-1.0\n",
      "x = [0 0 1 1], y = -1, pred=-1.0\n",
      "x = [1 0 1 0], y = -1, pred=-1.0\n",
      "x = [1 1 1 0], y = 1, pred=1.0\n",
      "x = [1 1 0 0], y = -1, pred=-1.0\n",
      "x = [1 1 0 1], y = 1, pred=1.0\n",
      "Accuracy on unseen data: 1.0\n"
     ]
    }
   ],
   "source": [
    "data = np.loadtxt(\"./parity_test.txt\",dtype=int)\n",
    "X_test = np.array(data[:, :-1])\n",
    "Y_test = np.array(data[:, -1])\n",
    "Y_test = Y_test * 2 - 1  # shift label from {0, 1} to {-1, 1}\n",
    "\n",
    "# it does the prediction for each x in X_test\n",
    "predictions_test = [np.sign(variational_classifier(weights,bias,x)) for x in X_test]\n",
    "\n",
    "# it shows, for each x in X_test, its real label y from Y_test, and the prediction p (done by the classifier).\n",
    "for x,y,p in zip(X_test,Y_test,predictions_test):\n",
    "    print(f\"x = {x}, y = {y}, pred={p}\")\n",
    "\n",
    "acc_test = accuracy(Y_test, predictions_test)\n",
    "print(\"Accuracy on unseen data:\", acc_test)"
   ]
  },
  {
   "cell_type": "markdown",
   "id": "fd811279-5cf7-434e-b7ca-b50ff9c4e56a",
   "metadata": {},
   "source": [
    "With this, we test that the classifier also learn to predict unseen data tuples."
   ]
  },
  {
   "cell_type": "markdown",
   "id": "39ec6fdf-9b06-4b69-b197-30fee3e6b3fa",
   "metadata": {},
   "source": [
    "## 2. Iris Classification"
   ]
  },
  {
   "cell_type": "markdown",
   "id": "c2d2197e-4d04-42a3-a459-2e181f078df3",
   "metadata": {},
   "source": [
    "Now we will clasigy data points from the Iris dataset. These aren't just bitstring values. These are represented as 2-dimensional real-valued vectors."
   ]
  },
  {
   "cell_type": "markdown",
   "id": "56f5ab5c-2a18-4a2d-9803-637e921daf44",
   "metadata": {},
   "source": [
    "### Quantum and classical nodes"
   ]
  },
  {
   "cell_type": "markdown",
   "id": "b7adab2f-5d7b-419a-894e-ecfe9c064afe",
   "metadata": {},
   "source": [
    "State preparation is harder. Every input $x$ must be translated into a set of angles. For ignoring rotations around z-axis, we will ignore the sign of the values, so as to just work with a positive subspace."
   ]
  },
  {
   "cell_type": "code",
   "execution_count": 42,
   "id": "a3298ded-19b9-45d9-b4b6-6f92db810403",
   "metadata": {},
   "outputs": [],
   "source": [
    "def get_angles(x):\n",
    "    beta0 = 2 * np.arcsin(np.sqrt(x[1] ** 2) / np.sqrt(x[0] ** 2 + x[1] ** 2 + 1e-12))\n",
    "    beta1 = 2 * np.arcsin(np.sqrt(x[3] ** 2) / np.sqrt(x[2] ** 2 + x[3] ** 2 + 1e-12))\n",
    "    beta2 = 2 * np.arcsin(np.linalg.norm(x[2:]) / np.linalg.norm(x))\n",
    "\n",
    "    return np.array([beta2, -beta1 / 2, beta1 / 2, -beta0 / 2, beta0 / 2])\n",
    "\n",
    "def state_preparation(a):\n",
    "    qml.RY(a[0],wires=0)\n",
    "\n",
    "    qml.CNOT(wires=[0,1])\n",
    "    qml.RY(a[1],wires=1)\n",
    "    qml.CNOT(wires=[0,1])\n",
    "    qml.RY(a[2],wires=1)\n",
    "\n",
    "    qml.PauliX(wires=0)\n",
    "    qml.CNOT(wires=[0, 1])\n",
    "    qml.RY(a[3], wires=1)\n",
    "    qml.CNOT(wires=[0, 1])\n",
    "    qml.RY(a[4], wires=1)\n",
    "    qml.PauliX(wires=0)"
   ]
  },
  {
   "cell_type": "markdown",
   "id": "69c3a00c-1151-4b7b-816d-6a83c1bdee60",
   "metadata": {},
   "source": [
    "Testing if the routine works"
   ]
  },
  {
   "cell_type": "code",
   "execution_count": 43,
   "id": "d2381411-cd8e-4839-b10d-26f242ba7607",
   "metadata": {},
   "outputs": [
    {
     "name": "stdout",
     "output_type": "stream",
     "text": [
      "x               :  [0.538968 0.795036 0.278265 0.      ]\n",
      "angles          :  [ 0.563975 -0.        0.       -0.975046  0.975046]\n",
      "amplitude vector:  [ 0.538968  0.795036  0.278265 -0.      ]\n"
     ]
    }
   ],
   "source": [
    "x = np.array([0.53896774, 0.79503606, 0.27826503, 0.0],requires_grad=False)\n",
    "ang = get_angles(x)\n",
    "\n",
    "@qml.qnode(dev)\n",
    "def test(angles):\n",
    "    state_preparation(angles)\n",
    "\n",
    "    return qml.state()\n",
    "\n",
    "state = test(ang)\n",
    "print(\"x               : \", np.round(x, 6))\n",
    "print(\"angles          : \", np.round(ang, 6))\n",
    "print(\"amplitude vector: \", np.round(np.real(state), 6))"
   ]
  },
  {
   "cell_type": "markdown",
   "id": "8ff3299b-47fd-4111-a4ed-608de2caf1e9",
   "metadata": {},
   "source": [
    "We can see that the final amplitude vector correspond to the real values of a instance of the dataset."
   ]
  },
  {
   "cell_type": "markdown",
   "id": "d91e74e0-da29-47e0-8aa0-af681ad1fbae",
   "metadata": {},
   "source": [
    "The $\\texttt{layer}$ function will be updated to work just with 2 qubits. Also the $\\texttt{cost}$ function will be redefined to pass the full batch of data to the state preparation."
   ]
  },
  {
   "cell_type": "code",
   "execution_count": 44,
   "id": "0253979d-f630-4b6a-81b6-839e961663ac",
   "metadata": {},
   "outputs": [],
   "source": [
    "def layer(layer_weights):\n",
    "    for wire in range(2):\n",
    "        qml.Rot(*layer_weights[wire],wires=wire)\n",
    "    qml.CNOT(wires=[0,1])\n",
    "\n",
    "def cost(weights,bias,X,Y):\n",
    "    predictions = variational_classifier(weights,bias,X.T)\n",
    "    return square_loss(Y,predictions)"
   ]
  },
  {
   "cell_type": "markdown",
   "id": "1c52d2e8-8717-4a29-b509-3c37d11842ac",
   "metadata": {},
   "source": [
    "### Data"
   ]
  },
  {
   "cell_type": "markdown",
   "id": "9bf00e66-8714-4411-aaff-6cc9e3ca673f",
   "metadata": {},
   "source": [
    "The Iris dataset is loaded. A preprocessing will be done, so as to encode the inputs into the amplitudes of a quantum state. The data points will be augmented by two \"latent dimensions\", so that the size of the padded data point match the size of the state vector in the quantum device. It is needed to normalize the data points and then translate the inputs x to rotation angles."
   ]
  },
  {
   "cell_type": "code",
   "execution_count": 45,
   "id": "ea864273-5fd0-4135-9edc-9062686de882",
   "metadata": {},
   "outputs": [
    {
     "name": "stdout",
     "output_type": "stream",
     "text": [
      "First X sample (original)  : [0.4  0.75]\n",
      "First X sample (padded)    : [0.4  0.75 0.1  0.1 ]\n",
      "First X sample (normalized): [0.46420708 0.87038828 0.11605177 0.11605177]\n",
      "First features sample      : [ 0.32973573 -0.78539816  0.78539816 -1.080839    1.080839  ]\n"
     ]
    }
   ],
   "source": [
    "data = np.loadtxt(\"./iris_classes1and2_scaled.txt\")\n",
    "X = data[:,0:2]\n",
    "print(f\"First X sample (original)  : {X[0]}\")\n",
    "\n",
    "# pad the vectors to size 2^2=4 with constant values\n",
    "padding = np.ones((len(X),2)) * 0.1\n",
    "X_pad = np.c_[X,padding]\n",
    "print(f\"First X sample (padded)    : {X_pad[0]}\")\n",
    "\n",
    "# normalizing the padded inputs\n",
    "normalization = np.sqrt(np.sum(X_pad**2,-1))\n",
    "X_norm = (X_pad.T / normalization).T\n",
    "print(f\"First X sample (normalized): {X_norm[0]}\")\n",
    "\n",
    "# the angles for the state preparation are the feature\n",
    "features = np.array([get_angles(x) for x in X_norm],requires_grad=False)\n",
    "print(f\"First features sample      : {features[0]}\")\n",
    "\n",
    "Y = data[:, -1]"
   ]
  },
  {
   "cell_type": "markdown",
   "id": "6b0496e1-cd0c-4b8f-8231-fba30a3c0d4e",
   "metadata": {},
   "source": [
    "Now, we will plot the stages of all the preprocessing."
   ]
  },
  {
   "cell_type": "code",
   "execution_count": 46,
   "id": "1ebc7838-eaad-464c-b233-aec52c495d03",
   "metadata": {},
   "outputs": [
    {
     "data": {
      "image/png": "[encoded data removed]",
      "text/plain": [
       "<Figure size 640x480 with 1 Axes>"
      ]
     },
     "metadata": {},
     "output_type": "display_data"
    },
    {
     "data": {
      "image/png": "[encoded data removed]",
      "text/plain": [
       "<Figure size 640x480 with 1 Axes>"
      ]
     },
     "metadata": {},
     "output_type": "display_data"
    },
    {
     "data": {
      "image/png": "[encoded data removed]",
      "text/plain": [
       "<Figure size 640x480 with 1 Axes>"
      ]
     },
     "metadata": {},
     "output_type": "display_data"
    }
   ],
   "source": [
    "import matplotlib.pyplot as plt\n",
    "\n",
    "plt.figure()\n",
    "plt.scatter(X[:, 0][Y == 1], X[:, 1][Y == 1], c=\"b\", marker=\"o\", ec=\"k\")\n",
    "plt.scatter(X[:, 0][Y == -1], X[:, 1][Y == -1], c=\"r\", marker=\"o\", ec=\"k\")\n",
    "plt.title(\"Original data\")\n",
    "plt.show()\n",
    "\n",
    "plt.figure()\n",
    "dim1 = 0\n",
    "dim2 = 1\n",
    "plt.scatter(X_norm[:, dim1][Y == 1], X_norm[:, dim2][Y == 1], c=\"b\", marker=\"o\", ec=\"k\")\n",
    "plt.scatter(X_norm[:, dim1][Y == -1], X_norm[:, dim2][Y == -1], c=\"r\", marker=\"o\", ec=\"k\")\n",
    "plt.title(f\"Padded and normalised data (dims {dim1} and {dim2})\")\n",
    "plt.show()\n",
    "\n",
    "plt.figure()\n",
    "dim1 = 0\n",
    "dim2 = 3\n",
    "plt.scatter(features[:, dim1][Y == 1], features[:, dim2][Y == 1], c=\"b\", marker=\"o\", ec=\"k\")\n",
    "plt.scatter(features[:, dim1][Y == -1], features[:, dim2][Y == -1], c=\"r\", marker=\"o\", ec=\"k\")\n",
    "plt.title(f\"Feature vectors (dims {dim1} and {dim2})\")\n",
    "plt.show()"
   ]
  },
  {
   "cell_type": "markdown",
   "id": "f5665fb4-259b-4aa1-af73-271f6dcdb642",
   "metadata": {},
   "source": [
    "Now, we should divide $X$ and $Y$ into $X_{train}$, $Y_{train}$, $X_{test}$ and $Y_{test}$."
   ]
  },
  {
   "cell_type": "code",
   "execution_count": 47,
   "id": "b2fe1901-b372-4408-9999-ae94c72dec9e",
   "metadata": {},
   "outputs": [],
   "source": [
    "np.random.seed(0)\n",
    "\n",
    "num_data = len(Y)\n",
    "num_train = int(0.75 * num_data)\n",
    "index = np.random.permutation(range(num_data))\n",
    "feats_train = features[index[:num_train]]\n",
    "Y_train = Y[index[:num_train]]\n",
    "feats_val = features[index[num_train:]]\n",
    "Y_val = Y[index[num_train:]]\n",
    "\n",
    "# We need these later for plotting\n",
    "X_train = X[index[:num_train]]\n",
    "X_val = X[index[num_train:]]"
   ]
  },
  {
   "cell_type": "markdown",
   "id": "aa2f7e5a-9b21-406e-aa22-8acc2eb3ebab",
   "metadata": {},
   "source": [
    "### Optimization"
   ]
  },
  {
   "cell_type": "markdown",
   "id": "07bd9cc6-dc1c-46da-b828-1d4a63d50b24",
   "metadata": {},
   "source": [
    "We define the variables for the optimization"
   ]
  },
  {
   "cell_type": "code",
   "execution_count": 48,
   "id": "44c4e5dc-0856-4f9b-9e36-69383592078a",
   "metadata": {},
   "outputs": [],
   "source": [
    "num_qubits = 2\n",
    "num_layers = 6\n",
    "\n",
    "weights_init = 0.01 * np.random.randn(num_layers,num_qubits,3,requires_grad=True)"
   ]
  },
  {
   "cell_type": "markdown",
   "id": "ccfb221a-92c5-47cc-8e38-3a6db6e54522",
   "metadata": {},
   "source": [
    "We minimize the cost, using a optimizer"
   ]
  },
  {
   "cell_type": "code",
   "execution_count": 49,
   "id": "43502a40-0f06-4f10-a997-19c7f3532215",
   "metadata": {},
   "outputs": [
    {
     "name": "stdout",
     "output_type": "stream",
     "text": [
      "Iter:     2 | Cost: 1.6023766 | Acc train: 0.4800000 | Acc validation: 0.5600000\n",
      "Iter:     4 | Cost: 1.2627147 | Acc train: 0.4933333 | Acc validation: 0.5600000\n",
      "Iter:     6 | Cost: 1.0292513 | Acc train: 0.4666667 | Acc validation: 0.5600000\n",
      "Iter:     8 | Cost: 0.9678474 | Acc train: 0.4933333 | Acc validation: 0.7200000\n",
      "Iter:    10 | Cost: 0.9688918 | Acc train: 0.6000000 | Acc validation: 0.6000000\n",
      "Iter:    12 | Cost: 0.9729272 | Acc train: 0.5466667 | Acc validation: 0.4800000\n",
      "Iter:    14 | Cost: 0.9252177 | Acc train: 0.5600000 | Acc validation: 0.5200000\n",
      "Iter:    16 | Cost: 0.8713669 | Acc train: 0.6933333 | Acc validation: 0.6800000\n",
      "Iter:    18 | Cost: 0.8485919 | Acc train: 0.8000000 | Acc validation: 0.8800000\n",
      "Iter:    20 | Cost: 0.8064362 | Acc train: 0.8666667 | Acc validation: 0.9600000\n",
      "Iter:    22 | Cost: 0.7531130 | Acc train: 0.9066667 | Acc validation: 0.9200000\n",
      "Iter:    24 | Cost: 0.7016197 | Acc train: 0.9200000 | Acc validation: 0.9600000\n",
      "Iter:    26 | Cost: 0.6327652 | Acc train: 0.9200000 | Acc validation: 0.9600000\n",
      "Iter:    28 | Cost: 0.5548710 | Acc train: 0.9200000 | Acc validation: 0.9600000\n",
      "Iter:    30 | Cost: 0.4719784 | Acc train: 0.9200000 | Acc validation: 0.9600000\n",
      "Iter:    32 | Cost: 0.4060091 | Acc train: 0.9066667 | Acc validation: 0.9200000\n",
      "Iter:    34 | Cost: 0.3446558 | Acc train: 0.9333333 | Acc validation: 0.9600000\n",
      "Iter:    36 | Cost: 0.2825487 | Acc train: 0.9866667 | Acc validation: 1.0000000\n",
      "Iter:    38 | Cost: 0.2641483 | Acc train: 1.0000000 | Acc validation: 1.0000000\n",
      "Iter:    40 | Cost: 0.2726154 | Acc train: 1.0000000 | Acc validation: 1.0000000\n",
      "Iter:    42 | Cost: 0.3074188 | Acc train: 0.9600000 | Acc validation: 0.9200000\n",
      "Iter:    44 | Cost: 0.3308592 | Acc train: 0.9600000 | Acc validation: 0.8800000\n",
      "Iter:    46 | Cost: 0.3232434 | Acc train: 0.9600000 | Acc validation: 0.8800000\n",
      "Iter:    48 | Cost: 0.3005286 | Acc train: 0.9466667 | Acc validation: 0.9200000\n",
      "Iter:    50 | Cost: 0.2773182 | Acc train: 0.9733333 | Acc validation: 0.9200000\n",
      "Iter:    52 | Cost: 0.2372898 | Acc train: 1.0000000 | Acc validation: 1.0000000\n",
      "Iter:    54 | Cost: 0.2195471 | Acc train: 1.0000000 | Acc validation: 1.0000000\n",
      "Iter:    56 | Cost: 0.2159724 | Acc train: 1.0000000 | Acc validation: 1.0000000\n",
      "Iter:    58 | Cost: 0.2156337 | Acc train: 1.0000000 | Acc validation: 1.0000000\n",
      "Iter:    60 | Cost: 0.2151353 | Acc train: 1.0000000 | Acc validation: 1.0000000\n"
     ]
    }
   ],
   "source": [
    "optimizer = NesterovMomentumOptimizer(0.01)\n",
    "batch_size = 5\n",
    "\n",
    "weights = weights_init\n",
    "bias = bias_init\n",
    "for itr in range(60):\n",
    "    # update the weights by one step\n",
    "    batch_index = np.random.randint(0,num_train,(batch_size,))\n",
    "    feats_train_batch = feats_train[batch_index]\n",
    "    Y_train_batch = Y_train[batch_index]\n",
    "    weights,bias,_,_ = optimizer.step(cost,weights,bias,feats_train_batch,Y_train_batch)\n",
    "\n",
    "    # compute the predictions on train and test sets\n",
    "    prediction_train = np.sign(variational_classifier(weights,bias,feats_train.T))\n",
    "    predictions_test = np.sign(variational_classifier(weights, bias, feats_val.T))\n",
    "\n",
    "    # compute the accuracy on train and test sets\n",
    "    opt = NesterovMomentumOptimizer(0.01)\n",
    "batch_size = 5\n",
    "\n",
    "# train the variational classifier\n",
    "weights = weights_init\n",
    "bias = bias_init\n",
    "for it in range(60):\n",
    "    # Update the weights by one optimizer step\n",
    "    batch_index = np.random.randint(0, num_train, (batch_size,))\n",
    "    feats_train_batch = feats_train[batch_index]\n",
    "    Y_train_batch = Y_train[batch_index]\n",
    "    weights, bias, _, _ = opt.step(cost, weights, bias, feats_train_batch, Y_train_batch)\n",
    "\n",
    "    # Compute predictions on train and validation set\n",
    "    predictions_train = np.sign(variational_classifier(weights, bias, feats_train.T))\n",
    "    predictions_val = np.sign(variational_classifier(weights, bias, feats_val.T))\n",
    "\n",
    "    # Compute accuracy on train and validation set\n",
    "    acc_train = accuracy(Y_train, predictions_train)\n",
    "    acc_val = accuracy(Y_val, predictions_val)\n",
    "\n",
    "    if (it + 1) % 2 == 0:\n",
    "        _cost = cost(weights, bias, features, Y)\n",
    "        print(\n",
    "            f\"Iter: {it + 1:5d} | Cost: {_cost:0.7f} | \"\n",
    "            f\"Acc train: {acc_train:0.7f} | Acc validation: {acc_val:0.7f}\"\n",
    "        )"
   ]
  },
  {
   "cell_type": "code",
   "execution_count": 50,
   "id": "f928f343-5984-4a27-9538-4c21a2e2efd0",
   "metadata": {},
   "outputs": [
    {
     "data": {
      "image/png": "[encoded data removed]",
      "text/plain": [
       "<Figure size 640x480 with 2 Axes>"
      ]
     },
     "metadata": {},
     "output_type": "display_data"
    }
   ],
   "source": [
    "plt.figure()\n",
    "cm = plt.cm.RdBu\n",
    "\n",
    "# make data for decision regions\n",
    "xx, yy = np.meshgrid(np.linspace(0.0, 1.5, 30), np.linspace(0.0, 1.5, 30))\n",
    "X_grid = [np.array([x, y]) for x, y in zip(xx.flatten(), yy.flatten())]\n",
    "\n",
    "# preprocess grid points like data inputs above\n",
    "padding = 0.1 * np.ones((len(X_grid), 2))\n",
    "X_grid = np.c_[X_grid, padding]  # pad each input\n",
    "normalization = np.sqrt(np.sum(X_grid**2, -1))\n",
    "X_grid = (X_grid.T / normalization).T  # normalize each input\n",
    "features_grid = np.array([get_angles(x) for x in X_grid])  # angles are new features\n",
    "predictions_grid = variational_classifier(weights, bias, features_grid.T)\n",
    "Z = np.reshape(predictions_grid, xx.shape)\n",
    "\n",
    "# plot decision regions\n",
    "levels = np.arange(-1, 1.1, 0.1)\n",
    "cnt = plt.contourf(xx, yy, Z, levels=levels, cmap=cm, alpha=0.8, extend=\"both\")\n",
    "plt.contour(xx, yy, Z, levels=[0.0], colors=(\"black\",), linestyles=(\"--\",), linewidths=(0.8,))\n",
    "plt.colorbar(cnt, ticks=[-1, 0, 1])\n",
    "\n",
    "# plot data\n",
    "for color, label in zip([\"b\", \"r\"], [1, -1]):\n",
    "    plot_x = X_train[:, 0][Y_train == label]\n",
    "    plot_y = X_train[:, 1][Y_train == label]\n",
    "    plt.scatter(plot_x, plot_y, c=color, marker=\"o\", ec=\"k\", label=f\"class {label} train\")\n",
    "    plot_x = (X_val[:, 0][Y_val == label],)\n",
    "    plot_y = (X_val[:, 1][Y_val == label],)\n",
    "    plt.scatter(plot_x, plot_y, c=color, marker=\"^\", ec=\"k\", label=f\"class {label} validation\")\n",
    "\n",
    "plt.legend()\n",
    "plt.show()"
   ]
  },
  {
   "cell_type": "markdown",
   "id": "0af6b4f6-4e95-43a5-8390-8cb37cba31f9",
   "metadata": {},
   "source": [
    "the classifier was able to find a line between the datapoints of the two different classes, allowing a perfect accuracy."
   ]
  }
 ],
 "metadata": {
  "kernelspec": {
   "display_name": "Python 3 (ipykernel)",
   "language": "python",
   "name": "python3"
  },
  "language_info": {
   "codemirror_mode": {
    "name": "ipython",
    "version": 3
   },
   "file_extension": ".py",
   "mimetype": "text/x-python",
   "name": "python",
   "nbconvert_exporter": "python",
   "pygments_lexer": "ipython3",
   "version": "3.10.13"
  }
 },
 "nbformat": 4,
 "nbformat_minor": 5
}
